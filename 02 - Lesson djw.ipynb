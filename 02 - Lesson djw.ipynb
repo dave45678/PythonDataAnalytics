{
 "cells": [
  {
   "cell_type": "markdown",
   "metadata": {},
   "source": [
    "# **Lesson 2**  \n",
    "\n",
    "**Create Data** - We begin by creating our own data set for analysis. This prevents the end user reading this tutorial from having to download any files to replicate the results below. We will export this data set to a text file so that you can get some experience pulling data from a text file.  \n",
    "**Get Data** - We will learn how to read in the text file containing the baby names. The data consist of baby names born in the year 1880.  \n",
    "**Prepare Data** - Here we will simply take a look at the data and make sure it is clean. By clean I mean we will take a look inside the contents of the text file and look for any anomalities. These can include missing data, inconsistencies in the data, or any other data that seems out of place. If any are found we will then have to make decisions on what to do with these records.  \n",
    "**Analyze Data** - We will simply find the most popular name in a specific year.  \n",
    "**Present Data** - Through tabular data and a graph, clearly show the end user what is the most popular name in a specific year.  \n",
    "\n",
    "***NOTE:  \n",
    "Make sure you have looked through all previous lessons as the knowledge learned in previous lessons will be needed for this exercise.***  \n",
    "    "
   ]
  },
  {
   "cell_type": "markdown",
   "metadata": {},
   "source": [
    "> ***Numpy*** will be used to help generate the sample data set. Importing the libraries is the first step we will take in the lesson."
   ]
  },
  {
   "cell_type": "code",
   "execution_count": 2,
   "metadata": {
    "collapsed": false
   },
   "outputs": [
    {
     "ename": "ImportError",
     "evalue": "No module named 'matplotlib'",
     "output_type": "error",
     "traceback": [
      "\u001b[1;31m---------------------------------------------------------------------------\u001b[0m",
      "\u001b[1;31mImportError\u001b[0m                               Traceback (most recent call last)",
      "\u001b[1;32m<ipython-input-2-9bc2ad060717>\u001b[0m in \u001b[0;36m<module>\u001b[1;34m()\u001b[0m\n\u001b[0;32m      2\u001b[0m \u001b[1;32mimport\u001b[0m \u001b[0mpandas\u001b[0m \u001b[1;32mas\u001b[0m \u001b[0mpd\u001b[0m\u001b[1;33m\u001b[0m\u001b[0m\n\u001b[0;32m      3\u001b[0m \u001b[1;32mfrom\u001b[0m \u001b[0mnumpy\u001b[0m \u001b[1;32mimport\u001b[0m \u001b[0mrandom\u001b[0m\u001b[1;33m\u001b[0m\u001b[0m\n\u001b[1;32m----> 4\u001b[1;33m \u001b[1;32mimport\u001b[0m \u001b[0mmatplotlib\u001b[0m\u001b[1;33m.\u001b[0m\u001b[0mpyplot\u001b[0m \u001b[1;32mas\u001b[0m \u001b[0mplt\u001b[0m\u001b[1;33m\u001b[0m\u001b[0m\n\u001b[0m\u001b[0;32m      5\u001b[0m \u001b[1;32mimport\u001b[0m \u001b[0msys\u001b[0m \u001b[1;31m#only needed to determine Python version number\u001b[0m\u001b[1;33m\u001b[0m\u001b[0m\n\u001b[0;32m      6\u001b[0m \u001b[1;33m\u001b[0m\u001b[0m\n",
      "\u001b[1;31mImportError\u001b[0m: No module named 'matplotlib'"
     ]
    }
   ],
   "source": [
    "# Import all libraries needed for the tutorial\n",
    "import pandas as pd\n",
    "from numpy import random\n",
    "import matplotlib.pyplot as plt\n",
    "import sys #only needed to determine Python version number\n",
    "\n",
    "# Enable inline plotting\n",
    "%matplotlib inline"
   ]
  },
  {
   "cell_type": "code",
   "execution_count": 1,
   "metadata": {
    "collapsed": false
   },
   "outputs": [
    {
     "ename": "NameError",
     "evalue": "name 'sys' is not defined",
     "output_type": "error",
     "traceback": [
      "\u001b[1;31m---------------------------------------------------------------------------\u001b[0m",
      "\u001b[1;31mNameError\u001b[0m                                 Traceback (most recent call last)",
      "\u001b[1;32m<ipython-input-1-96295b7d0ba9>\u001b[0m in \u001b[0;36m<module>\u001b[1;34m()\u001b[0m\n\u001b[1;32m----> 1\u001b[1;33m \u001b[0mprint\u001b[0m \u001b[1;33m(\u001b[0m\u001b[1;34m'Python version '\u001b[0m \u001b[1;33m+\u001b[0m \u001b[0msys\u001b[0m\u001b[1;33m.\u001b[0m\u001b[0mversion\u001b[0m\u001b[1;33m)\u001b[0m\u001b[1;33m\u001b[0m\u001b[0m\n\u001b[0m\u001b[0;32m      2\u001b[0m \u001b[0mprint\u001b[0m \u001b[1;33m(\u001b[0m\u001b[1;34m'Pandas version '\u001b[0m \u001b[1;33m+\u001b[0m \u001b[0mpd\u001b[0m\u001b[1;33m.\u001b[0m\u001b[0m__version__\u001b[0m\u001b[1;33m)\u001b[0m\u001b[1;33m\u001b[0m\u001b[0m\n",
      "\u001b[1;31mNameError\u001b[0m: name 'sys' is not defined"
     ]
    }
   ],
   "source": [
    "print ('Python version ' + sys.version)\n",
    "print ('Pandas version ' + pd.__version__)"
   ]
  },
  {
   "cell_type": "raw",
   "metadata": {},
   "source": [
    "# Create Data  \n",
    "\n",
    "The data set will consist of 1,000 baby names and the number of births recorded for that year (1880). We will also add plenty of duplicates so you will see the same baby name more than once. You can think of the multiple entries per name simply being different hospitals around the country reporting the number of births per baby name. So if two hospitals reported the baby name \"Bob\", the data will have two values for the name Bob. We will start by creating the random set of baby names. "
   ]
  },
  {
   "cell_type": "code",
   "execution_count": 91,
   "metadata": {
    "collapsed": false
   },
   "outputs": [],
   "source": [
    "# The inital set of baby names\n",
    "names = ['Bob','Jessica','Mary','John','Mel']"
   ]
  },
  {
   "cell_type": "markdown",
   "metadata": {},
   "source": [
    "To make a random list of 1,000 baby names using the five above we will do the following:  \n",
    "\n",
    "* Generate a random number between 0 and 4  \n",
    "\n",
    "To do this we will be using the functions ***seed***, ***randint***, ***len***, ***range***, and ***zip***.   "
   ]
  },
  {
   "cell_type": "code",
   "execution_count": 92,
   "metadata": {
    "collapsed": false
   },
   "outputs": [],
   "source": [
    "# This will ensure the random samples below can be reproduced. \n",
    "# This means the random samples will always be identical.\n",
    "\n",
    "random.seed?"
   ]
  },
  {
   "cell_type": "code",
   "execution_count": 93,
   "metadata": {
    "collapsed": false
   },
   "outputs": [],
   "source": [
    "random.randint?"
   ]
  },
  {
   "cell_type": "code",
   "execution_count": 94,
   "metadata": {
    "collapsed": false
   },
   "outputs": [],
   "source": [
    "len?"
   ]
  },
  {
   "cell_type": "code",
   "execution_count": 95,
   "metadata": {
    "collapsed": false
   },
   "outputs": [],
   "source": [
    "range?"
   ]
  },
  {
   "cell_type": "code",
   "execution_count": 96,
   "metadata": {
    "collapsed": false
   },
   "outputs": [],
   "source": [
    "zip?"
   ]
  },
  {
   "cell_type": "markdown",
   "metadata": {},
   "source": [
    "**seed(500)** - Create seed\n",
    "\n",
    "**randint(low=0,high=len(names))** - Generate a random integer between zero and the length of the list \"names\".    \n",
    "\n",
    "**names[n]** - Select the name where its index is equal to n.  \n",
    "\n",
    "**for i in range(n)** - Loop until i is equal to n, i.e. 1,2,3,....n.  \n",
    "\n",
    "**random_names** = Select a random name from the name list and do this n times.  "
   ]
  },
  {
   "cell_type": "code",
   "execution_count": 97,
   "metadata": {
    "collapsed": false
   },
   "outputs": [
    {
     "data": {
      "text/plain": [
       "['Mary',\n",
       " 'Jessica',\n",
       " 'Jessica',\n",
       " 'Bob',\n",
       " 'Jessica',\n",
       " 'Jessica',\n",
       " 'Jessica',\n",
       " 'Mary',\n",
       " 'Mary',\n",
       " 'Mary']"
      ]
     },
     "execution_count": 97,
     "metadata": {},
     "output_type": "execute_result"
    }
   ],
   "source": [
    "random.seed(500)\n",
    "random_names = [names[random.randint(low=0,high=len(names))] for i in range(1000)]\n",
    "\n",
    "# Print first 10 records\n",
    "random_names[:10]"
   ]
  },
  {
   "cell_type": "markdown",
   "metadata": {},
   "source": [
    "Generate a random numbers between 0 and 1000    "
   ]
  },
  {
   "cell_type": "code",
   "execution_count": 98,
   "metadata": {
    "collapsed": false
   },
   "outputs": [
    {
     "data": {
      "text/plain": [
       "[968, 155, 77, 578, 973, 124, 155, 403, 199, 191]"
      ]
     },
     "execution_count": 98,
     "metadata": {},
     "output_type": "execute_result"
    }
   ],
   "source": [
    "# The number of births per name for the year 1880\n",
    "births = [random.randint(low=0,high=1000) for i in range(1000)]\n",
    "births[:10]"
   ]
  },
  {
   "cell_type": "markdown",
   "metadata": {},
   "source": [
    "Merge the ***names*** and the ***births*** data set using the ***zip*** function."
   ]
  },
  {
   "cell_type": "code",
   "execution_count": 99,
   "metadata": {
    "collapsed": false
   },
   "outputs": [
    {
     "data": {
      "text/plain": [
       "[('Mary', 968),\n",
       " ('Jessica', 155),\n",
       " ('Jessica', 77),\n",
       " ('Bob', 578),\n",
       " ('Jessica', 973),\n",
       " ('Jessica', 124),\n",
       " ('Jessica', 155),\n",
       " ('Mary', 403),\n",
       " ('Mary', 199),\n",
       " ('Mary', 191)]"
      ]
     },
     "execution_count": 99,
     "metadata": {},
     "output_type": "execute_result"
    }
   ],
   "source": [
    "BabyDataSet = list(zip(random_names,births))\n",
    "BabyDataSet[:10]"
   ]
  },
  {
   "cell_type": "markdown",
   "metadata": {},
   "source": [
    "We are basically done creating the data set. We now will use the ***pandas*** library to export this data set into a csv file. \n",
    "\n",
    "***df*** will be a ***DataFrame*** object. You can think of this object holding the contents of the BabyDataSet in a format similar to a sql table or an excel spreadsheet. Lets take a look below at the contents inside ***df***."
   ]
  },
  {
   "cell_type": "code",
   "execution_count": 100,
   "metadata": {
    "collapsed": false
   },
   "outputs": [
    {
     "data": {
      "text/html": [
       "<div>\n",
       "<table border=\"1\" class=\"dataframe\">\n",
       "  <thead>\n",
       "    <tr style=\"text-align: right;\">\n",
       "      <th></th>\n",
       "      <th>Names</th>\n",
       "      <th>Births</th>\n",
       "    </tr>\n",
       "  </thead>\n",
       "  <tbody>\n",
       "    <tr>\n",
       "      <th>0</th>\n",
       "      <td>Mary</td>\n",
       "      <td>968</td>\n",
       "    </tr>\n",
       "    <tr>\n",
       "      <th>1</th>\n",
       "      <td>Jessica</td>\n",
       "      <td>155</td>\n",
       "    </tr>\n",
       "    <tr>\n",
       "      <th>2</th>\n",
       "      <td>Jessica</td>\n",
       "      <td>77</td>\n",
       "    </tr>\n",
       "    <tr>\n",
       "      <th>3</th>\n",
       "      <td>Bob</td>\n",
       "      <td>578</td>\n",
       "    </tr>\n",
       "    <tr>\n",
       "      <th>4</th>\n",
       "      <td>Jessica</td>\n",
       "      <td>973</td>\n",
       "    </tr>\n",
       "    <tr>\n",
       "      <th>5</th>\n",
       "      <td>Jessica</td>\n",
       "      <td>124</td>\n",
       "    </tr>\n",
       "    <tr>\n",
       "      <th>6</th>\n",
       "      <td>Jessica</td>\n",
       "      <td>155</td>\n",
       "    </tr>\n",
       "    <tr>\n",
       "      <th>7</th>\n",
       "      <td>Mary</td>\n",
       "      <td>403</td>\n",
       "    </tr>\n",
       "    <tr>\n",
       "      <th>8</th>\n",
       "      <td>Mary</td>\n",
       "      <td>199</td>\n",
       "    </tr>\n",
       "    <tr>\n",
       "      <th>9</th>\n",
       "      <td>Mary</td>\n",
       "      <td>191</td>\n",
       "    </tr>\n",
       "  </tbody>\n",
       "</table>\n",
       "</div>"
      ],
      "text/plain": [
       "     Names  Births\n",
       "0     Mary     968\n",
       "1  Jessica     155\n",
       "2  Jessica      77\n",
       "3      Bob     578\n",
       "4  Jessica     973\n",
       "5  Jessica     124\n",
       "6  Jessica     155\n",
       "7     Mary     403\n",
       "8     Mary     199\n",
       "9     Mary     191"
      ]
     },
     "execution_count": 100,
     "metadata": {},
     "output_type": "execute_result"
    }
   ],
   "source": [
    "df = pd.DataFrame(data = BabyDataSet, columns=['Names', 'Births'])\n",
    "df[:10]"
   ]
  },
  {
   "cell_type": "markdown",
   "metadata": {},
   "source": [
    "* Export the dataframe to a ***text*** file. We can name the file ***births1880.txt***. The function ***to_csv*** will be used to export. The file will be saved in the same location of the notebook unless specified otherwise."
   ]
  },
  {
   "cell_type": "code",
   "execution_count": 101,
   "metadata": {
    "collapsed": false
   },
   "outputs": [],
   "source": [
    "df.to_csv?"
   ]
  },
  {
   "cell_type": "markdown",
   "metadata": {},
   "source": [
    "The only parameters we will use is ***index*** and ***header***. Setting these parameters to False will prevent the index and header names from being exported. Change the values of these parameters to get a better understanding of their use."
   ]
  },
  {
   "cell_type": "code",
   "execution_count": 102,
   "metadata": {
    "collapsed": false
   },
   "outputs": [],
   "source": [
    "df.to_csv('births1880.txt',index=False,header=False)"
   ]
  },
  {
   "cell_type": "markdown",
   "metadata": {},
   "source": [
    "## Get Data"
   ]
  },
  {
   "cell_type": "markdown",
   "metadata": {},
   "source": [
    "To pull in the text file, we will use the pandas function *read_csv*. Let us take a look at this function and what inputs it takes."
   ]
  },
  {
   "cell_type": "code",
   "execution_count": 103,
   "metadata": {
    "collapsed": false
   },
   "outputs": [],
   "source": [
    "pd.read_csv?"
   ]
  },
  {
   "cell_type": "markdown",
   "metadata": {},
   "source": [
    "Even though this functions has many parameters, we will simply pass it the location of the text file.  \n",
    "\n",
    "Location = C:\\Users\\TYPE_USER_NAME\\.xy\\startups\\births1880.txt  \n",
    "\n",
    "***Note:*** Depending on where you save your notebooks, you may need to modify the location above. "
   ]
  },
  {
   "cell_type": "code",
   "execution_count": 104,
   "metadata": {
    "collapsed": false
   },
   "outputs": [],
   "source": [
    "Location = r'births1880.txt'\n",
    "df = pd.read_csv(Location)"
   ]
  },
  {
   "cell_type": "markdown",
   "metadata": {},
   "source": [
    "Notice the ***r*** before the string. Since the slashes are special characters, prefixing the string with a ***r*** will escape the whole string.  "
   ]
  },
  {
   "cell_type": "code",
   "execution_count": 105,
   "metadata": {
    "collapsed": false
   },
   "outputs": [
    {
     "name": "stdout",
     "output_type": "stream",
     "text": [
      "<class 'pandas.core.frame.DataFrame'>\n",
      "Int64Index: 999 entries, 0 to 998\n",
      "Data columns (total 2 columns):\n",
      "Mary    999 non-null object\n",
      "968     999 non-null int64\n",
      "dtypes: int64(1), object(1)\n",
      "memory usage: 23.4+ KB\n"
     ]
    }
   ],
   "source": [
    "df.info()"
   ]
  },
  {
   "cell_type": "markdown",
   "metadata": {},
   "source": [
    "Summary says:  \n",
    "\n",
    "* There are ***999*** records in the data set  \n",
    "* There is a column named ***Mary*** with 999 values  \n",
    "* There is a column named ***968*** with 999 values  \n",
    "* Out of the ***two*** columns, one is ***numeric***, the other is ***non numeric***  "
   ]
  },
  {
   "cell_type": "markdown",
   "metadata": {},
   "source": [
    "To actually see the contents of the dataframe we can use the ***head()*** function which by default will return the first five records. You can also pass in a number n to return the top n records of the dataframe. "
   ]
  },
  {
   "cell_type": "code",
   "execution_count": 106,
   "metadata": {
    "collapsed": false
   },
   "outputs": [
    {
     "data": {
      "text/html": [
       "<div>\n",
       "<table border=\"1\" class=\"dataframe\">\n",
       "  <thead>\n",
       "    <tr style=\"text-align: right;\">\n",
       "      <th></th>\n",
       "      <th>Mary</th>\n",
       "      <th>968</th>\n",
       "    </tr>\n",
       "  </thead>\n",
       "  <tbody>\n",
       "    <tr>\n",
       "      <th>0</th>\n",
       "      <td>Jessica</td>\n",
       "      <td>155</td>\n",
       "    </tr>\n",
       "    <tr>\n",
       "      <th>1</th>\n",
       "      <td>Jessica</td>\n",
       "      <td>77</td>\n",
       "    </tr>\n",
       "    <tr>\n",
       "      <th>2</th>\n",
       "      <td>Bob</td>\n",
       "      <td>578</td>\n",
       "    </tr>\n",
       "    <tr>\n",
       "      <th>3</th>\n",
       "      <td>Jessica</td>\n",
       "      <td>973</td>\n",
       "    </tr>\n",
       "    <tr>\n",
       "      <th>4</th>\n",
       "      <td>Jessica</td>\n",
       "      <td>124</td>\n",
       "    </tr>\n",
       "  </tbody>\n",
       "</table>\n",
       "</div>"
      ],
      "text/plain": [
       "      Mary  968\n",
       "0  Jessica  155\n",
       "1  Jessica   77\n",
       "2      Bob  578\n",
       "3  Jessica  973\n",
       "4  Jessica  124"
      ]
     },
     "execution_count": 106,
     "metadata": {},
     "output_type": "execute_result"
    }
   ],
   "source": [
    "df.head()"
   ]
  },
  {
   "cell_type": "markdown",
   "metadata": {},
   "source": [
    "This brings us the our first problem of the exercise. The ***read_csv*** function treated the first record in the text file as the header names. This is obviously not correct since the text file did not provide us with header names.  \n",
    "\n",
    "To correct this we will pass the ***header*** parameter to the *read_csv* function and set it to ***None*** (means null in python)."
   ]
  },
  {
   "cell_type": "code",
   "execution_count": 107,
   "metadata": {
    "collapsed": false
   },
   "outputs": [
    {
     "name": "stdout",
     "output_type": "stream",
     "text": [
      "<class 'pandas.core.frame.DataFrame'>\n",
      "Int64Index: 1000 entries, 0 to 999\n",
      "Data columns (total 2 columns):\n",
      "0    1000 non-null object\n",
      "1    1000 non-null int64\n",
      "dtypes: int64(1), object(1)\n",
      "memory usage: 23.4+ KB\n"
     ]
    }
   ],
   "source": [
    "df = pd.read_csv(Location, header=None)\n",
    "df.info()"
   ]
  },
  {
   "cell_type": "markdown",
   "metadata": {},
   "source": [
    "Summary now says:  \n",
    "* There are ***1000*** records in the data set  \n",
    "* There is a column named ***0*** with 1000 values  \n",
    "* There is a column named ***1*** with 1000 values  \n",
    "* Out of the ***two*** columns, one is ***numeric***, the other is ***non numeric***  \n",
    "\n",
    "Now lets take a look at the last five records of the dataframe"
   ]
  },
  {
   "cell_type": "code",
   "execution_count": 108,
   "metadata": {
    "collapsed": false
   },
   "outputs": [
    {
     "data": {
      "text/html": [
       "<div>\n",
       "<table border=\"1\" class=\"dataframe\">\n",
       "  <thead>\n",
       "    <tr style=\"text-align: right;\">\n",
       "      <th></th>\n",
       "      <th>0</th>\n",
       "      <th>1</th>\n",
       "    </tr>\n",
       "  </thead>\n",
       "  <tbody>\n",
       "    <tr>\n",
       "      <th>995</th>\n",
       "      <td>John</td>\n",
       "      <td>151</td>\n",
       "    </tr>\n",
       "    <tr>\n",
       "      <th>996</th>\n",
       "      <td>Jessica</td>\n",
       "      <td>511</td>\n",
       "    </tr>\n",
       "    <tr>\n",
       "      <th>997</th>\n",
       "      <td>John</td>\n",
       "      <td>756</td>\n",
       "    </tr>\n",
       "    <tr>\n",
       "      <th>998</th>\n",
       "      <td>Jessica</td>\n",
       "      <td>294</td>\n",
       "    </tr>\n",
       "    <tr>\n",
       "      <th>999</th>\n",
       "      <td>John</td>\n",
       "      <td>152</td>\n",
       "    </tr>\n",
       "  </tbody>\n",
       "</table>\n",
       "</div>"
      ],
      "text/plain": [
       "           0    1\n",
       "995     John  151\n",
       "996  Jessica  511\n",
       "997     John  756\n",
       "998  Jessica  294\n",
       "999     John  152"
      ]
     },
     "execution_count": 108,
     "metadata": {},
     "output_type": "execute_result"
    }
   ],
   "source": [
    "df.tail()"
   ]
  },
  {
   "cell_type": "markdown",
   "metadata": {},
   "source": [
    "If we wanted to give the columns specific names, we would have to pass another paramter called ***names***. We can also omit the *header* parameter."
   ]
  },
  {
   "cell_type": "code",
   "execution_count": 109,
   "metadata": {
    "collapsed": false
   },
   "outputs": [
    {
     "data": {
      "text/html": [
       "<div>\n",
       "<table border=\"1\" class=\"dataframe\">\n",
       "  <thead>\n",
       "    <tr style=\"text-align: right;\">\n",
       "      <th></th>\n",
       "      <th>Names</th>\n",
       "      <th>Births</th>\n",
       "    </tr>\n",
       "  </thead>\n",
       "  <tbody>\n",
       "    <tr>\n",
       "      <th>0</th>\n",
       "      <td>Mary</td>\n",
       "      <td>968</td>\n",
       "    </tr>\n",
       "    <tr>\n",
       "      <th>1</th>\n",
       "      <td>Jessica</td>\n",
       "      <td>155</td>\n",
       "    </tr>\n",
       "    <tr>\n",
       "      <th>2</th>\n",
       "      <td>Jessica</td>\n",
       "      <td>77</td>\n",
       "    </tr>\n",
       "    <tr>\n",
       "      <th>3</th>\n",
       "      <td>Bob</td>\n",
       "      <td>578</td>\n",
       "    </tr>\n",
       "    <tr>\n",
       "      <th>4</th>\n",
       "      <td>Jessica</td>\n",
       "      <td>973</td>\n",
       "    </tr>\n",
       "  </tbody>\n",
       "</table>\n",
       "</div>"
      ],
      "text/plain": [
       "     Names  Births\n",
       "0     Mary     968\n",
       "1  Jessica     155\n",
       "2  Jessica      77\n",
       "3      Bob     578\n",
       "4  Jessica     973"
      ]
     },
     "execution_count": 109,
     "metadata": {},
     "output_type": "execute_result"
    }
   ],
   "source": [
    "df = pd.read_csv(Location, names=['Names','Births'])\n",
    "df.head(5)"
   ]
  },
  {
   "cell_type": "markdown",
   "metadata": {},
   "source": [
    "You can think of the numbers [0,1,2,3,4,...] as the row numbers in an Excel file. In pandas these are part of the ***index*** of the dataframe. You can think of the index as the primary key of a sql table with the exception that an index is allowed to have duplicates.  \n",
    "\n",
    "[Names, Births] can be though of as column headers similar to the ones found in an Excel spreadsheet or sql database."
   ]
  },
  {
   "cell_type": "markdown",
   "metadata": {},
   "source": [
    "Delete the txt file now that we are done using it."
   ]
  },
  {
   "cell_type": "code",
   "execution_count": 110,
   "metadata": {
    "collapsed": false
   },
   "outputs": [],
   "source": [
    "import os\n",
    "os.remove(Location)"
   ]
  },
  {
   "cell_type": "markdown",
   "metadata": {},
   "source": [
    "## Prepare Data"
   ]
  },
  {
   "cell_type": "markdown",
   "metadata": {},
   "source": [
    "The data we have consists of baby names and the number of births in the year 1880. We already know that we have 1,000 records and none of the records are missing (non-null values). We can verify the \"Names\" column still only has five unique names.  \n",
    "\n",
    "We can use the ***unique*** property of the dataframe to find all the unique records of the \"Names\" column."
   ]
  },
  {
   "cell_type": "code",
   "execution_count": 111,
   "metadata": {
    "collapsed": false
   },
   "outputs": [
    {
     "data": {
      "text/plain": [
       "array(['Mary', 'Jessica', 'Bob', 'John', 'Mel'], dtype=object)"
      ]
     },
     "execution_count": 111,
     "metadata": {},
     "output_type": "execute_result"
    }
   ],
   "source": [
    "# Method 1:\n",
    "df['Names'].unique()"
   ]
  },
  {
   "cell_type": "code",
   "execution_count": 112,
   "metadata": {
    "collapsed": false
   },
   "outputs": [
    {
     "name": "stdout",
     "output_type": "stream",
     "text": [
      "Mary\n",
      "Jessica\n",
      "Bob\n",
      "John\n",
      "Mel\n"
     ]
    }
   ],
   "source": [
    "# If you actually want to print the unique values:\n",
    "for x in df['Names'].unique():\n",
    "    print (x)"
   ]
  },
  {
   "cell_type": "code",
   "execution_count": 113,
   "metadata": {
    "collapsed": false
   },
   "outputs": [
    {
     "name": "stdout",
     "output_type": "stream",
     "text": [
      "count     1000\n",
      "unique       5\n",
      "top        Bob\n",
      "freq       206\n",
      "Name: Names, dtype: object\n"
     ]
    }
   ],
   "source": [
    "# Method 2:\n",
    "print (df['Names'].describe())"
   ]
  },
  {
   "cell_type": "markdown",
   "metadata": {},
   "source": [
    "Since we have multiple values per baby name, we need to aggregate this data so we only have a baby name appear once. This means the 1,000 rows will need to become 5. We can accomplish this by using the ***groupby*** function. "
   ]
  },
  {
   "cell_type": "code",
   "execution_count": 84,
   "metadata": {
    "collapsed": false
   },
   "outputs": [],
   "source": [
    "df.groupby?"
   ]
  },
  {
   "cell_type": "code",
   "execution_count": 114,
   "metadata": {
    "collapsed": false
   },
   "outputs": [
    {
     "data": {
      "text/html": [
       "<div>\n",
       "<table border=\"1\" class=\"dataframe\">\n",
       "  <thead>\n",
       "    <tr style=\"text-align: right;\">\n",
       "      <th></th>\n",
       "      <th>Births</th>\n",
       "    </tr>\n",
       "    <tr>\n",
       "      <th>Names</th>\n",
       "      <th></th>\n",
       "    </tr>\n",
       "  </thead>\n",
       "  <tbody>\n",
       "    <tr>\n",
       "      <th>Bob</th>\n",
       "      <td>106817</td>\n",
       "    </tr>\n",
       "    <tr>\n",
       "      <th>Jessica</th>\n",
       "      <td>97826</td>\n",
       "    </tr>\n",
       "    <tr>\n",
       "      <th>John</th>\n",
       "      <td>90705</td>\n",
       "    </tr>\n",
       "    <tr>\n",
       "      <th>Mary</th>\n",
       "      <td>99438</td>\n",
       "    </tr>\n",
       "    <tr>\n",
       "      <th>Mel</th>\n",
       "      <td>102319</td>\n",
       "    </tr>\n",
       "  </tbody>\n",
       "</table>\n",
       "</div>"
      ],
      "text/plain": [
       "         Births\n",
       "Names          \n",
       "Bob      106817\n",
       "Jessica   97826\n",
       "John      90705\n",
       "Mary      99438\n",
       "Mel      102319"
      ]
     },
     "execution_count": 114,
     "metadata": {},
     "output_type": "execute_result"
    }
   ],
   "source": [
    "# Create a groupby object\n",
    "name = df.groupby('Names')\n",
    "\n",
    "# Apply the sum function to the groupby object\n",
    "df = name.sum()\n",
    "df"
   ]
  },
  {
   "cell_type": "markdown",
   "metadata": {},
   "source": [
    "## Analyze Data"
   ]
  },
  {
   "cell_type": "markdown",
   "metadata": {},
   "source": [
    "To find the most popular name or the baby name with the higest birth rate, we can do one of the following.  \n",
    "\n",
    "* Sort the dataframe and select the top row\n",
    "* Use the ***max()*** attribute to find the maximum value"
   ]
  },
  {
   "cell_type": "code",
   "execution_count": 25,
   "metadata": {
    "collapsed": false
   },
   "outputs": [
    {
     "data": {
      "text/html": [
       "<div>\n",
       "<table border=\"1\" class=\"dataframe\">\n",
       "  <thead>\n",
       "    <tr style=\"text-align: right;\">\n",
       "      <th></th>\n",
       "      <th>Births</th>\n",
       "    </tr>\n",
       "    <tr>\n",
       "      <th>Names</th>\n",
       "      <th></th>\n",
       "    </tr>\n",
       "  </thead>\n",
       "  <tbody>\n",
       "    <tr>\n",
       "      <th>Bob</th>\n",
       "      <td>106817</td>\n",
       "    </tr>\n",
       "  </tbody>\n",
       "</table>\n",
       "</div>"
      ],
      "text/plain": [
       "       Births\n",
       "Names        \n",
       "Bob    106817"
      ]
     },
     "execution_count": 25,
     "metadata": {},
     "output_type": "execute_result"
    }
   ],
   "source": [
    "# Method 1:\n",
    "Sorted = df.sort(['Births'], ascending=False)\n",
    "Sorted.head(1)"
   ]
  },
  {
   "cell_type": "code",
   "execution_count": 26,
   "metadata": {
    "collapsed": false
   },
   "outputs": [
    {
     "data": {
      "text/plain": [
       "106817"
      ]
     },
     "execution_count": 26,
     "metadata": {},
     "output_type": "execute_result"
    }
   ],
   "source": [
    "# Method 2:\n",
    "df['Births'].max()"
   ]
  },
  {
   "cell_type": "markdown",
   "metadata": {},
   "source": [
    "## Present Data"
   ]
  },
  {
   "cell_type": "markdown",
   "metadata": {},
   "source": [
    "Here we can plot the ***Births*** column and label the graph to show the end user the highest point on the graph. In conjunction with the table, the end user has a clear picture that **Bob** is the most popular baby name in the data set. "
   ]
  },
  {
   "cell_type": "code",
   "execution_count": 27,
   "metadata": {
    "collapsed": false
   },
   "outputs": [
    {
     "name": "stdout",
     "output_type": "stream",
     "text": [
      "The most popular name\n"
     ]
    },
    {
     "data": {
      "text/html": [
       "<div>\n",
       "<table border=\"1\" class=\"dataframe\">\n",
       "  <thead>\n",
       "    <tr style=\"text-align: right;\">\n",
       "      <th></th>\n",
       "      <th>Births</th>\n",
       "    </tr>\n",
       "    <tr>\n",
       "      <th>Names</th>\n",
       "      <th></th>\n",
       "    </tr>\n",
       "  </thead>\n",
       "  <tbody>\n",
       "    <tr>\n",
       "      <th>Bob</th>\n",
       "      <td>106817</td>\n",
       "    </tr>\n",
       "    <tr>\n",
       "      <th>Mel</th>\n",
       "      <td>102319</td>\n",
       "    </tr>\n",
       "    <tr>\n",
       "      <th>Mary</th>\n",
       "      <td>99438</td>\n",
       "    </tr>\n",
       "    <tr>\n",
       "      <th>Jessica</th>\n",
       "      <td>97826</td>\n",
       "    </tr>\n",
       "    <tr>\n",
       "      <th>John</th>\n",
       "      <td>90705</td>\n",
       "    </tr>\n",
       "  </tbody>\n",
       "</table>\n",
       "</div>"
      ],
      "text/plain": [
       "         Births\n",
       "Names          \n",
       "Bob      106817\n",
       "Mel      102319\n",
       "Mary      99438\n",
       "Jessica   97826\n",
       "John      90705"
      ]
     },
     "execution_count": 27,
     "metadata": {},
     "output_type": "execute_result"
    },
    {
     "data": {
      "image/png": "[encoded data removed]",
      "text/plain": [
       "<matplotlib.figure.Figure at 0x8b47f98>"
      ]
     },
     "metadata": {},
     "output_type": "display_data"
    }
   ],
   "source": [
    "# Create graph\n",
    "df['Births'].plot(kind='bar')\n",
    "\n",
    "print(\"The most popular name\")\n",
    "df.sort(columns='Births', ascending=False)"
   ]
  },
  {
   "cell_type": "code",
   "execution_count": null,
   "metadata": {
    "collapsed": false
   },
   "outputs": [],
   "source": [
    "# discuss lambda\n",
    "# discuss anaconda and show spyder\n",
    "# fill in the gaps now that they have created examples give them the information behind it.\n",
    "# explain dataframe and series in more detail\n",
    "# Discuss pivot tables for next example  http://pbpython.com/pandas-pivot-table-explained.html\n",
    "# discuss iPython notebook and pandas in more detail\n",
    "# http://pandas.pydata.org/pandas-docs/stable/indexing.html#indexing-view-versus-copy\n",
    "# baby names example from book p. 32...\n",
    "\n",
    "years = range(1880,2014)\n",
    "\n",
    "# Location = r'C:\\Users\\GBTC407001ur\\Dropbox\\dave45678\\Python for Data Analytics\\babynames\\names\\'\n",
    "Location = 'C:\\\\Users\\\\dave\\\\Dropbox\\\\dave45678\\\\Python for Data Analytics\\\\babynames\\\\names\\\\'\n",
    "\n",
    "pieces = []\n",
    "columns = ['names','sex','births']\n",
    "for year in years:\n",
    "    path = Location + 'yob%d.txt' % year\n",
    "    print(path)\n",
    "    frame = pd.read_csv(path, names=columns)\n",
    "    \n",
    "    frame['year'] = year\n",
    "    pieces.append(frame)\n",
    "    \n",
    "names = pd.concat(pieces, ignore_index=True)"
   ]
  },
  {
   "cell_type": "code",
   "execution_count": 7,
   "metadata": {
    "collapsed": false
   },
   "outputs": [
    {
     "data": {
      "text/html": [
       "<div>\n",
       "<table border=\"1\" class=\"dataframe\">\n",
       "  <thead>\n",
       "    <tr style=\"text-align: right;\">\n",
       "      <th>sex</th>\n",
       "      <th>F</th>\n",
       "      <th>M</th>\n",
       "      <th>Total</th>\n",
       "    </tr>\n",
       "    <tr>\n",
       "      <th>year</th>\n",
       "      <th></th>\n",
       "      <th></th>\n",
       "      <th></th>\n",
       "    </tr>\n",
       "  </thead>\n",
       "  <tbody>\n",
       "    <tr>\n",
       "      <th>1880</th>\n",
       "      <td>90993</td>\n",
       "      <td>110491</td>\n",
       "      <td>201484</td>\n",
       "    </tr>\n",
       "    <tr>\n",
       "      <th>1881</th>\n",
       "      <td>91954</td>\n",
       "      <td>100745</td>\n",
       "      <td>192699</td>\n",
       "    </tr>\n",
       "    <tr>\n",
       "      <th>1882</th>\n",
       "      <td>107850</td>\n",
       "      <td>113688</td>\n",
       "      <td>221538</td>\n",
       "    </tr>\n",
       "    <tr>\n",
       "      <th>1883</th>\n",
       "      <td>112321</td>\n",
       "      <td>104629</td>\n",
       "      <td>216950</td>\n",
       "    </tr>\n",
       "    <tr>\n",
       "      <th>1884</th>\n",
       "      <td>129022</td>\n",
       "      <td>114445</td>\n",
       "      <td>243467</td>\n",
       "    </tr>\n",
       "  </tbody>\n",
       "</table>\n",
       "</div>"
      ],
      "text/plain": [
       "sex        F       M   Total\n",
       "year                        \n",
       "1880   90993  110491  201484\n",
       "1881   91954  100745  192699\n",
       "1882  107850  113688  221538\n",
       "1883  112321  104629  216950\n",
       "1884  129022  114445  243467"
      ]
     },
     "execution_count": 7,
     "metadata": {},
     "output_type": "execute_result"
    }
   ],
   "source": [
    "#note: this differs from the example in the book to work with py3\n",
    "total_births = names.pivot_table('births', index=['year'], columns='sex', aggfunc=sum)\n",
    "#add a new column called Total and make it equal to the sum of F + M\n",
    "total_births['Total']=total_births['F']+total_births['M']\n",
    "total_births.head()\n"
   ]
  },
  {
   "cell_type": "code",
   "execution_count": 8,
   "metadata": {
    "collapsed": false
   },
   "outputs": [
    {
     "data": {
      "text/html": [
       "<div>\n",
       "<table border=\"1\" class=\"dataframe\">\n",
       "  <thead>\n",
       "    <tr style=\"text-align: right;\">\n",
       "      <th>sex</th>\n",
       "      <th>F</th>\n",
       "      <th>M</th>\n",
       "      <th>Total</th>\n",
       "    </tr>\n",
       "    <tr>\n",
       "      <th>year</th>\n",
       "      <th></th>\n",
       "      <th></th>\n",
       "      <th></th>\n",
       "    </tr>\n",
       "  </thead>\n",
       "  <tbody>\n",
       "    <tr>\n",
       "      <th>2009</th>\n",
       "      <td>1832925</td>\n",
       "      <td>1979303</td>\n",
       "      <td>3812228</td>\n",
       "    </tr>\n",
       "    <tr>\n",
       "      <th>2010</th>\n",
       "      <td>1772738</td>\n",
       "      <td>1913851</td>\n",
       "      <td>3686589</td>\n",
       "    </tr>\n",
       "    <tr>\n",
       "      <th>2011</th>\n",
       "      <td>1753500</td>\n",
       "      <td>1893230</td>\n",
       "      <td>3646730</td>\n",
       "    </tr>\n",
       "    <tr>\n",
       "      <th>2012</th>\n",
       "      <td>1753922</td>\n",
       "      <td>1889414</td>\n",
       "      <td>3643336</td>\n",
       "    </tr>\n",
       "    <tr>\n",
       "      <th>2013</th>\n",
       "      <td>1745339</td>\n",
       "      <td>1881463</td>\n",
       "      <td>3626802</td>\n",
       "    </tr>\n",
       "  </tbody>\n",
       "</table>\n",
       "</div>"
      ],
      "text/plain": [
       "sex         F        M    Total\n",
       "year                           \n",
       "2009  1832925  1979303  3812228\n",
       "2010  1772738  1913851  3686589\n",
       "2011  1753500  1893230  3646730\n",
       "2012  1753922  1889414  3643336\n",
       "2013  1745339  1881463  3626802"
      ]
     },
     "execution_count": 8,
     "metadata": {},
     "output_type": "execute_result"
    }
   ],
   "source": [
    "total_births.tail()"
   ]
  },
  {
   "cell_type": "code",
   "execution_count": 9,
   "metadata": {
    "collapsed": false
   },
   "outputs": [
    {
     "name": "stdout",
     "output_type": "stream",
     "text": [
      "<class 'pandas.core.frame.DataFrame'>\n",
      "Int64Index: 1792389 entries, 0 to 1792388\n",
      "Data columns (total 5 columns):\n",
      "names     object\n",
      "sex       object\n",
      "births    int64\n",
      "year      int64\n",
      "prop      float64\n",
      "dtypes: float64(1), int64(2), object(2)\n",
      "memory usage: 68.4+ MB\n"
     ]
    },
    {
     "data": {
      "image/png": "[encoded data removed]",
      "text/plain": [
       "<matplotlib.figure.Figure at 0xe676770>"
      ]
     },
     "metadata": {},
     "output_type": "display_data"
    }
   ],
   "source": [
    "total_births.plot(title='Total births by sex and year')\n",
    "def add_prop(group):\n",
    "    # Integer division floors\n",
    "    births = group.births.astype(float)\n",
    "    \n",
    "    group['prop'] = births/births.sum()\n",
    "    return group\n",
    "names = names.groupby(['year','sex']).apply(add_prop)\n",
    "#names[names['name']=='Zenith']\n",
    "names.info()"
   ]
  },
  {
   "cell_type": "code",
   "execution_count": 10,
   "metadata": {
    "collapsed": false
   },
   "outputs": [
    {
     "data": {
      "text/html": [
       "<div>\n",
       "<table border=\"1\" class=\"dataframe\">\n",
       "  <thead>\n",
       "    <tr style=\"text-align: right;\">\n",
       "      <th></th>\n",
       "      <th>names</th>\n",
       "      <th>sex</th>\n",
       "      <th>births</th>\n",
       "      <th>year</th>\n",
       "      <th>prop</th>\n",
       "    </tr>\n",
       "  </thead>\n",
       "  <tbody>\n",
       "    <tr>\n",
       "      <th>0</th>\n",
       "      <td>Mary</td>\n",
       "      <td>F</td>\n",
       "      <td>7065</td>\n",
       "      <td>1880</td>\n",
       "      <td>0.077643</td>\n",
       "    </tr>\n",
       "    <tr>\n",
       "      <th>1</th>\n",
       "      <td>Anna</td>\n",
       "      <td>F</td>\n",
       "      <td>2604</td>\n",
       "      <td>1880</td>\n",
       "      <td>0.028618</td>\n",
       "    </tr>\n",
       "    <tr>\n",
       "      <th>2</th>\n",
       "      <td>Emma</td>\n",
       "      <td>F</td>\n",
       "      <td>2003</td>\n",
       "      <td>1880</td>\n",
       "      <td>0.022013</td>\n",
       "    </tr>\n",
       "    <tr>\n",
       "      <th>3</th>\n",
       "      <td>Elizabeth</td>\n",
       "      <td>F</td>\n",
       "      <td>1939</td>\n",
       "      <td>1880</td>\n",
       "      <td>0.021309</td>\n",
       "    </tr>\n",
       "    <tr>\n",
       "      <th>4</th>\n",
       "      <td>Minnie</td>\n",
       "      <td>F</td>\n",
       "      <td>1746</td>\n",
       "      <td>1880</td>\n",
       "      <td>0.019188</td>\n",
       "    </tr>\n",
       "    <tr>\n",
       "      <th>5</th>\n",
       "      <td>Margaret</td>\n",
       "      <td>F</td>\n",
       "      <td>1578</td>\n",
       "      <td>1880</td>\n",
       "      <td>0.017342</td>\n",
       "    </tr>\n",
       "    <tr>\n",
       "      <th>6</th>\n",
       "      <td>Ida</td>\n",
       "      <td>F</td>\n",
       "      <td>1472</td>\n",
       "      <td>1880</td>\n",
       "      <td>0.016177</td>\n",
       "    </tr>\n",
       "    <tr>\n",
       "      <th>7</th>\n",
       "      <td>Alice</td>\n",
       "      <td>F</td>\n",
       "      <td>1414</td>\n",
       "      <td>1880</td>\n",
       "      <td>0.015540</td>\n",
       "    </tr>\n",
       "    <tr>\n",
       "      <th>8</th>\n",
       "      <td>Bertha</td>\n",
       "      <td>F</td>\n",
       "      <td>1320</td>\n",
       "      <td>1880</td>\n",
       "      <td>0.014507</td>\n",
       "    </tr>\n",
       "    <tr>\n",
       "      <th>9</th>\n",
       "      <td>Sarah</td>\n",
       "      <td>F</td>\n",
       "      <td>1288</td>\n",
       "      <td>1880</td>\n",
       "      <td>0.014155</td>\n",
       "    </tr>\n",
       "    <tr>\n",
       "      <th>10</th>\n",
       "      <td>Annie</td>\n",
       "      <td>F</td>\n",
       "      <td>1258</td>\n",
       "      <td>1880</td>\n",
       "      <td>0.013825</td>\n",
       "    </tr>\n",
       "    <tr>\n",
       "      <th>11</th>\n",
       "      <td>Clara</td>\n",
       "      <td>F</td>\n",
       "      <td>1226</td>\n",
       "      <td>1880</td>\n",
       "      <td>0.013474</td>\n",
       "    </tr>\n",
       "    <tr>\n",
       "      <th>12</th>\n",
       "      <td>Ella</td>\n",
       "      <td>F</td>\n",
       "      <td>1156</td>\n",
       "      <td>1880</td>\n",
       "      <td>0.012704</td>\n",
       "    </tr>\n",
       "    <tr>\n",
       "      <th>13</th>\n",
       "      <td>Florence</td>\n",
       "      <td>F</td>\n",
       "      <td>1063</td>\n",
       "      <td>1880</td>\n",
       "      <td>0.011682</td>\n",
       "    </tr>\n",
       "    <tr>\n",
       "      <th>14</th>\n",
       "      <td>Cora</td>\n",
       "      <td>F</td>\n",
       "      <td>1045</td>\n",
       "      <td>1880</td>\n",
       "      <td>0.011484</td>\n",
       "    </tr>\n",
       "    <tr>\n",
       "      <th>15</th>\n",
       "      <td>Martha</td>\n",
       "      <td>F</td>\n",
       "      <td>1040</td>\n",
       "      <td>1880</td>\n",
       "      <td>0.011429</td>\n",
       "    </tr>\n",
       "    <tr>\n",
       "      <th>16</th>\n",
       "      <td>Laura</td>\n",
       "      <td>F</td>\n",
       "      <td>1012</td>\n",
       "      <td>1880</td>\n",
       "      <td>0.011122</td>\n",
       "    </tr>\n",
       "    <tr>\n",
       "      <th>17</th>\n",
       "      <td>Nellie</td>\n",
       "      <td>F</td>\n",
       "      <td>995</td>\n",
       "      <td>1880</td>\n",
       "      <td>0.010935</td>\n",
       "    </tr>\n",
       "    <tr>\n",
       "      <th>18</th>\n",
       "      <td>Grace</td>\n",
       "      <td>F</td>\n",
       "      <td>982</td>\n",
       "      <td>1880</td>\n",
       "      <td>0.010792</td>\n",
       "    </tr>\n",
       "    <tr>\n",
       "      <th>19</th>\n",
       "      <td>Carrie</td>\n",
       "      <td>F</td>\n",
       "      <td>949</td>\n",
       "      <td>1880</td>\n",
       "      <td>0.010429</td>\n",
       "    </tr>\n",
       "    <tr>\n",
       "      <th>20</th>\n",
       "      <td>Maude</td>\n",
       "      <td>F</td>\n",
       "      <td>858</td>\n",
       "      <td>1880</td>\n",
       "      <td>0.009429</td>\n",
       "    </tr>\n",
       "    <tr>\n",
       "      <th>21</th>\n",
       "      <td>Mabel</td>\n",
       "      <td>F</td>\n",
       "      <td>808</td>\n",
       "      <td>1880</td>\n",
       "      <td>0.008880</td>\n",
       "    </tr>\n",
       "    <tr>\n",
       "      <th>22</th>\n",
       "      <td>Bessie</td>\n",
       "      <td>F</td>\n",
       "      <td>796</td>\n",
       "      <td>1880</td>\n",
       "      <td>0.008748</td>\n",
       "    </tr>\n",
       "    <tr>\n",
       "      <th>23</th>\n",
       "      <td>Jennie</td>\n",
       "      <td>F</td>\n",
       "      <td>793</td>\n",
       "      <td>1880</td>\n",
       "      <td>0.008715</td>\n",
       "    </tr>\n",
       "    <tr>\n",
       "      <th>24</th>\n",
       "      <td>Gertrude</td>\n",
       "      <td>F</td>\n",
       "      <td>787</td>\n",
       "      <td>1880</td>\n",
       "      <td>0.008649</td>\n",
       "    </tr>\n",
       "    <tr>\n",
       "      <th>25</th>\n",
       "      <td>Julia</td>\n",
       "      <td>F</td>\n",
       "      <td>783</td>\n",
       "      <td>1880</td>\n",
       "      <td>0.008605</td>\n",
       "    </tr>\n",
       "    <tr>\n",
       "      <th>26</th>\n",
       "      <td>Hattie</td>\n",
       "      <td>F</td>\n",
       "      <td>769</td>\n",
       "      <td>1880</td>\n",
       "      <td>0.008451</td>\n",
       "    </tr>\n",
       "    <tr>\n",
       "      <th>27</th>\n",
       "      <td>Edith</td>\n",
       "      <td>F</td>\n",
       "      <td>768</td>\n",
       "      <td>1880</td>\n",
       "      <td>0.008440</td>\n",
       "    </tr>\n",
       "    <tr>\n",
       "      <th>28</th>\n",
       "      <td>Mattie</td>\n",
       "      <td>F</td>\n",
       "      <td>704</td>\n",
       "      <td>1880</td>\n",
       "      <td>0.007737</td>\n",
       "    </tr>\n",
       "    <tr>\n",
       "      <th>29</th>\n",
       "      <td>Rose</td>\n",
       "      <td>F</td>\n",
       "      <td>700</td>\n",
       "      <td>1880</td>\n",
       "      <td>0.007693</td>\n",
       "    </tr>\n",
       "    <tr>\n",
       "      <th>...</th>\n",
       "      <td>...</td>\n",
       "      <td>...</td>\n",
       "      <td>...</td>\n",
       "      <td>...</td>\n",
       "      <td>...</td>\n",
       "    </tr>\n",
       "    <tr>\n",
       "      <th>1792359</th>\n",
       "      <td>Zayceon</td>\n",
       "      <td>M</td>\n",
       "      <td>5</td>\n",
       "      <td>2013</td>\n",
       "      <td>0.000003</td>\n",
       "    </tr>\n",
       "    <tr>\n",
       "      <th>1792360</th>\n",
       "      <td>Zayid</td>\n",
       "      <td>M</td>\n",
       "      <td>5</td>\n",
       "      <td>2013</td>\n",
       "      <td>0.000003</td>\n",
       "    </tr>\n",
       "    <tr>\n",
       "      <th>1792361</th>\n",
       "      <td>Zaylynn</td>\n",
       "      <td>M</td>\n",
       "      <td>5</td>\n",
       "      <td>2013</td>\n",
       "      <td>0.000003</td>\n",
       "    </tr>\n",
       "    <tr>\n",
       "      <th>1792362</th>\n",
       "      <td>Zecheriah</td>\n",
       "      <td>M</td>\n",
       "      <td>5</td>\n",
       "      <td>2013</td>\n",
       "      <td>0.000003</td>\n",
       "    </tr>\n",
       "    <tr>\n",
       "      <th>1792363</th>\n",
       "      <td>Zedric</td>\n",
       "      <td>M</td>\n",
       "      <td>5</td>\n",
       "      <td>2013</td>\n",
       "      <td>0.000003</td>\n",
       "    </tr>\n",
       "    <tr>\n",
       "      <th>1792364</th>\n",
       "      <td>Zefram</td>\n",
       "      <td>M</td>\n",
       "      <td>5</td>\n",
       "      <td>2013</td>\n",
       "      <td>0.000003</td>\n",
       "    </tr>\n",
       "    <tr>\n",
       "      <th>1792365</th>\n",
       "      <td>Zekhi</td>\n",
       "      <td>M</td>\n",
       "      <td>5</td>\n",
       "      <td>2013</td>\n",
       "      <td>0.000003</td>\n",
       "    </tr>\n",
       "    <tr>\n",
       "      <th>1792366</th>\n",
       "      <td>Zenith</td>\n",
       "      <td>M</td>\n",
       "      <td>5</td>\n",
       "      <td>2013</td>\n",
       "      <td>0.000003</td>\n",
       "    </tr>\n",
       "    <tr>\n",
       "      <th>1792367</th>\n",
       "      <td>Zennon</td>\n",
       "      <td>M</td>\n",
       "      <td>5</td>\n",
       "      <td>2013</td>\n",
       "      <td>0.000003</td>\n",
       "    </tr>\n",
       "    <tr>\n",
       "      <th>1792368</th>\n",
       "      <td>Zepplin</td>\n",
       "      <td>M</td>\n",
       "      <td>5</td>\n",
       "      <td>2013</td>\n",
       "      <td>0.000003</td>\n",
       "    </tr>\n",
       "    <tr>\n",
       "      <th>1792369</th>\n",
       "      <td>Zevon</td>\n",
       "      <td>M</td>\n",
       "      <td>5</td>\n",
       "      <td>2013</td>\n",
       "      <td>0.000003</td>\n",
       "    </tr>\n",
       "    <tr>\n",
       "      <th>1792370</th>\n",
       "      <td>Zhaiden</td>\n",
       "      <td>M</td>\n",
       "      <td>5</td>\n",
       "      <td>2013</td>\n",
       "      <td>0.000003</td>\n",
       "    </tr>\n",
       "    <tr>\n",
       "      <th>1792371</th>\n",
       "      <td>Zhen</td>\n",
       "      <td>M</td>\n",
       "      <td>5</td>\n",
       "      <td>2013</td>\n",
       "      <td>0.000003</td>\n",
       "    </tr>\n",
       "    <tr>\n",
       "      <th>1792372</th>\n",
       "      <td>Zhian</td>\n",
       "      <td>M</td>\n",
       "      <td>5</td>\n",
       "      <td>2013</td>\n",
       "      <td>0.000003</td>\n",
       "    </tr>\n",
       "    <tr>\n",
       "      <th>1792373</th>\n",
       "      <td>Zien</td>\n",
       "      <td>M</td>\n",
       "      <td>5</td>\n",
       "      <td>2013</td>\n",
       "      <td>0.000003</td>\n",
       "    </tr>\n",
       "    <tr>\n",
       "      <th>1792374</th>\n",
       "      <td>Zierre</td>\n",
       "      <td>M</td>\n",
       "      <td>5</td>\n",
       "      <td>2013</td>\n",
       "      <td>0.000003</td>\n",
       "    </tr>\n",
       "    <tr>\n",
       "      <th>1792375</th>\n",
       "      <td>Zimri</td>\n",
       "      <td>M</td>\n",
       "      <td>5</td>\n",
       "      <td>2013</td>\n",
       "      <td>0.000003</td>\n",
       "    </tr>\n",
       "    <tr>\n",
       "      <th>1792376</th>\n",
       "      <td>Ziquan</td>\n",
       "      <td>M</td>\n",
       "      <td>5</td>\n",
       "      <td>2013</td>\n",
       "      <td>0.000003</td>\n",
       "    </tr>\n",
       "    <tr>\n",
       "      <th>1792377</th>\n",
       "      <td>Ziyaad</td>\n",
       "      <td>M</td>\n",
       "      <td>5</td>\n",
       "      <td>2013</td>\n",
       "      <td>0.000003</td>\n",
       "    </tr>\n",
       "    <tr>\n",
       "      <th>1792378</th>\n",
       "      <td>Ziyang</td>\n",
       "      <td>M</td>\n",
       "      <td>5</td>\n",
       "      <td>2013</td>\n",
       "      <td>0.000003</td>\n",
       "    </tr>\n",
       "    <tr>\n",
       "      <th>1792379</th>\n",
       "      <td>Zmari</td>\n",
       "      <td>M</td>\n",
       "      <td>5</td>\n",
       "      <td>2013</td>\n",
       "      <td>0.000003</td>\n",
       "    </tr>\n",
       "    <tr>\n",
       "      <th>1792380</th>\n",
       "      <td>Zolan</td>\n",
       "      <td>M</td>\n",
       "      <td>5</td>\n",
       "      <td>2013</td>\n",
       "      <td>0.000003</td>\n",
       "    </tr>\n",
       "    <tr>\n",
       "      <th>1792381</th>\n",
       "      <td>Zurich</td>\n",
       "      <td>M</td>\n",
       "      <td>5</td>\n",
       "      <td>2013</td>\n",
       "      <td>0.000003</td>\n",
       "    </tr>\n",
       "    <tr>\n",
       "      <th>1792382</th>\n",
       "      <td>Zyeer</td>\n",
       "      <td>M</td>\n",
       "      <td>5</td>\n",
       "      <td>2013</td>\n",
       "      <td>0.000003</td>\n",
       "    </tr>\n",
       "    <tr>\n",
       "      <th>1792383</th>\n",
       "      <td>Zyere</td>\n",
       "      <td>M</td>\n",
       "      <td>5</td>\n",
       "      <td>2013</td>\n",
       "      <td>0.000003</td>\n",
       "    </tr>\n",
       "    <tr>\n",
       "      <th>1792384</th>\n",
       "      <td>Zyhier</td>\n",
       "      <td>M</td>\n",
       "      <td>5</td>\n",
       "      <td>2013</td>\n",
       "      <td>0.000003</td>\n",
       "    </tr>\n",
       "    <tr>\n",
       "      <th>1792385</th>\n",
       "      <td>Zylar</td>\n",
       "      <td>M</td>\n",
       "      <td>5</td>\n",
       "      <td>2013</td>\n",
       "      <td>0.000003</td>\n",
       "    </tr>\n",
       "    <tr>\n",
       "      <th>1792386</th>\n",
       "      <td>Zymari</td>\n",
       "      <td>M</td>\n",
       "      <td>5</td>\n",
       "      <td>2013</td>\n",
       "      <td>0.000003</td>\n",
       "    </tr>\n",
       "    <tr>\n",
       "      <th>1792387</th>\n",
       "      <td>Zymeer</td>\n",
       "      <td>M</td>\n",
       "      <td>5</td>\n",
       "      <td>2013</td>\n",
       "      <td>0.000003</td>\n",
       "    </tr>\n",
       "    <tr>\n",
       "      <th>1792388</th>\n",
       "      <td>Zyree</td>\n",
       "      <td>M</td>\n",
       "      <td>5</td>\n",
       "      <td>2013</td>\n",
       "      <td>0.000003</td>\n",
       "    </tr>\n",
       "  </tbody>\n",
       "</table>\n",
       "<p>1792389 rows × 5 columns</p>\n",
       "</div>"
      ],
      "text/plain": [
       "             names sex  births  year      prop\n",
       "0             Mary   F    7065  1880  0.077643\n",
       "1             Anna   F    2604  1880  0.028618\n",
       "2             Emma   F    2003  1880  0.022013\n",
       "3        Elizabeth   F    1939  1880  0.021309\n",
       "4           Minnie   F    1746  1880  0.019188\n",
       "5         Margaret   F    1578  1880  0.017342\n",
       "6              Ida   F    1472  1880  0.016177\n",
       "7            Alice   F    1414  1880  0.015540\n",
       "8           Bertha   F    1320  1880  0.014507\n",
       "9            Sarah   F    1288  1880  0.014155\n",
       "10           Annie   F    1258  1880  0.013825\n",
       "11           Clara   F    1226  1880  0.013474\n",
       "12            Ella   F    1156  1880  0.012704\n",
       "13        Florence   F    1063  1880  0.011682\n",
       "14            Cora   F    1045  1880  0.011484\n",
       "15          Martha   F    1040  1880  0.011429\n",
       "16           Laura   F    1012  1880  0.011122\n",
       "17          Nellie   F     995  1880  0.010935\n",
       "18           Grace   F     982  1880  0.010792\n",
       "19          Carrie   F     949  1880  0.010429\n",
       "20           Maude   F     858  1880  0.009429\n",
       "21           Mabel   F     808  1880  0.008880\n",
       "22          Bessie   F     796  1880  0.008748\n",
       "23          Jennie   F     793  1880  0.008715\n",
       "24        Gertrude   F     787  1880  0.008649\n",
       "25           Julia   F     783  1880  0.008605\n",
       "26          Hattie   F     769  1880  0.008451\n",
       "27           Edith   F     768  1880  0.008440\n",
       "28          Mattie   F     704  1880  0.007737\n",
       "29            Rose   F     700  1880  0.007693\n",
       "...            ...  ..     ...   ...       ...\n",
       "1792359    Zayceon   M       5  2013  0.000003\n",
       "1792360      Zayid   M       5  2013  0.000003\n",
       "1792361    Zaylynn   M       5  2013  0.000003\n",
       "1792362  Zecheriah   M       5  2013  0.000003\n",
       "1792363     Zedric   M       5  2013  0.000003\n",
       "1792364     Zefram   M       5  2013  0.000003\n",
       "1792365      Zekhi   M       5  2013  0.000003\n",
       "1792366     Zenith   M       5  2013  0.000003\n",
       "1792367     Zennon   M       5  2013  0.000003\n",
       "1792368    Zepplin   M       5  2013  0.000003\n",
       "1792369      Zevon   M       5  2013  0.000003\n",
       "1792370    Zhaiden   M       5  2013  0.000003\n",
       "1792371       Zhen   M       5  2013  0.000003\n",
       "1792372      Zhian   M       5  2013  0.000003\n",
       "1792373       Zien   M       5  2013  0.000003\n",
       "1792374     Zierre   M       5  2013  0.000003\n",
       "1792375      Zimri   M       5  2013  0.000003\n",
       "1792376     Ziquan   M       5  2013  0.000003\n",
       "1792377     Ziyaad   M       5  2013  0.000003\n",
       "1792378     Ziyang   M       5  2013  0.000003\n",
       "1792379      Zmari   M       5  2013  0.000003\n",
       "1792380      Zolan   M       5  2013  0.000003\n",
       "1792381     Zurich   M       5  2013  0.000003\n",
       "1792382      Zyeer   M       5  2013  0.000003\n",
       "1792383      Zyere   M       5  2013  0.000003\n",
       "1792384     Zyhier   M       5  2013  0.000003\n",
       "1792385      Zylar   M       5  2013  0.000003\n",
       "1792386     Zymari   M       5  2013  0.000003\n",
       "1792387     Zymeer   M       5  2013  0.000003\n",
       "1792388      Zyree   M       5  2013  0.000003\n",
       "\n",
       "[1792389 rows x 5 columns]"
      ]
     },
     "execution_count": 10,
     "metadata": {},
     "output_type": "execute_result"
    }
   ],
   "source": [
    "names"
   ]
  },
  {
   "cell_type": "code",
   "execution_count": 11,
   "metadata": {
    "collapsed": false
   },
   "outputs": [
    {
     "data": {
      "text/plain": [
       "<matplotlib.axes._subplots.AxesSubplot at 0x400d950>"
      ]
     },
     "execution_count": 11,
     "metadata": {},
     "output_type": "execute_result"
    },
    {
     "data": {
      "image/png": "[encoded data removed]",
      "text/plain": [
       "<matplotlib.figure.Figure at 0x400d2b0>"
      ]
     },
     "metadata": {},
     "output_type": "display_data"
    }
   ],
   "source": [
    "names_filtered = names[(names['names'] == 'Catherine') | (names['names'] == 'Cathy')| (names['names'] == 'Katy')]\n",
    "total_births_filtered = names_filtered.pivot_table('births', index=['year'], columns='names', aggfunc=sum)\n",
    "total_births_filtered.plot(title='Total births by name and year')"
   ]
  },
  {
   "cell_type": "code",
   "execution_count": 12,
   "metadata": {
    "collapsed": false
   },
   "outputs": [
    {
     "data": {
      "text/plain": [
       "<matplotlib.axes._subplots.AxesSubplot at 0x40b6b30>"
      ]
     },
     "execution_count": 12,
     "metadata": {},
     "output_type": "execute_result"
    },
    {
     "data": {
      "image/png": "[encoded data removed]",
      "text/plain": [
       "<matplotlib.figure.Figure at 0x4018fd0>"
      ]
     },
     "metadata": {},
     "output_type": "display_data"
    }
   ],
   "source": [
    "names_filtered = names[(names['names'] == 'Arya')]\n",
    "total_births_filtered = names_filtered.pivot_table('births', index=['year'], columns='names', aggfunc=sum)\n",
    "total_births_filtered.plot(title='Total births by name and year')"
   ]
  },
  {
   "cell_type": "code",
   "execution_count": 13,
   "metadata": {
    "collapsed": false
   },
   "outputs": [
    {
     "name": "stdout",
     "output_type": "stream",
     "text": [
      "count     1792389\n",
      "unique      92645\n",
      "top        Jessie\n",
      "freq          268\n",
      "Name: names, dtype: object\n"
     ]
    }
   ],
   "source": [
    "# What is the most popular name?\n",
    "# Method 2:\n",
    "print (names['names'].describe())"
   ]
  },
  {
   "cell_type": "code",
   "execution_count": 14,
   "metadata": {
    "collapsed": false
   },
   "outputs": [
    {
     "data": {
      "text/html": [
       "<div>\n",
       "<table border=\"1\" class=\"dataframe\">\n",
       "  <thead>\n",
       "    <tr style=\"text-align: right;\">\n",
       "      <th></th>\n",
       "      <th>names</th>\n",
       "      <th>sex</th>\n",
       "      <th>births</th>\n",
       "      <th>year</th>\n",
       "      <th>prop</th>\n",
       "    </tr>\n",
       "  </thead>\n",
       "  <tbody>\n",
       "    <tr>\n",
       "      <th>431052</th>\n",
       "      <td>Linda</td>\n",
       "      <td>F</td>\n",
       "      <td>99680</td>\n",
       "      <td>1947</td>\n",
       "      <td>0.056232</td>\n",
       "    </tr>\n",
       "    <tr>\n",
       "      <th>441424</th>\n",
       "      <td>Linda</td>\n",
       "      <td>F</td>\n",
       "      <td>96205</td>\n",
       "      <td>1948</td>\n",
       "      <td>0.056664</td>\n",
       "    </tr>\n",
       "    <tr>\n",
       "      <th>437157</th>\n",
       "      <td>James</td>\n",
       "      <td>M</td>\n",
       "      <td>94755</td>\n",
       "      <td>1947</td>\n",
       "      <td>0.051801</td>\n",
       "    </tr>\n",
       "    <tr>\n",
       "      <th>544602</th>\n",
       "      <td>Michael</td>\n",
       "      <td>M</td>\n",
       "      <td>92709</td>\n",
       "      <td>1957</td>\n",
       "      <td>0.043003</td>\n",
       "    </tr>\n",
       "    <tr>\n",
       "      <th>437158</th>\n",
       "      <td>Robert</td>\n",
       "      <td>M</td>\n",
       "      <td>91642</td>\n",
       "      <td>1947</td>\n",
       "      <td>0.050099</td>\n",
       "    </tr>\n",
       "    <tr>\n",
       "      <th>451659</th>\n",
       "      <td>Linda</td>\n",
       "      <td>F</td>\n",
       "      <td>91010</td>\n",
       "      <td>1949</td>\n",
       "      <td>0.053197</td>\n",
       "    </tr>\n",
       "    <tr>\n",
       "      <th>533139</th>\n",
       "      <td>Michael</td>\n",
       "      <td>M</td>\n",
       "      <td>90633</td>\n",
       "      <td>1956</td>\n",
       "      <td>0.042879</td>\n",
       "    </tr>\n",
       "    <tr>\n",
       "      <th>556176</th>\n",
       "      <td>Michael</td>\n",
       "      <td>M</td>\n",
       "      <td>90519</td>\n",
       "      <td>1958</td>\n",
       "      <td>0.042683</td>\n",
       "    </tr>\n",
       "    <tr>\n",
       "      <th>447461</th>\n",
       "      <td>James</td>\n",
       "      <td>M</td>\n",
       "      <td>88596</td>\n",
       "      <td>1948</td>\n",
       "      <td>0.050497</td>\n",
       "    </tr>\n",
       "    <tr>\n",
       "      <th>510784</th>\n",
       "      <td>Michael</td>\n",
       "      <td>M</td>\n",
       "      <td>88485</td>\n",
       "      <td>1954</td>\n",
       "      <td>0.043431</td>\n",
       "    </tr>\n",
       "  </tbody>\n",
       "</table>\n",
       "</div>"
      ],
      "text/plain": [
       "          names sex  births  year      prop\n",
       "431052    Linda   F   99680  1947  0.056232\n",
       "441424    Linda   F   96205  1948  0.056664\n",
       "437157    James   M   94755  1947  0.051801\n",
       "544602  Michael   M   92709  1957  0.043003\n",
       "437158   Robert   M   91642  1947  0.050099\n",
       "451659    Linda   F   91010  1949  0.053197\n",
       "533139  Michael   M   90633  1956  0.042879\n",
       "556176  Michael   M   90519  1958  0.042683\n",
       "447461    James   M   88596  1948  0.050497\n",
       "510784  Michael   M   88485  1954  0.043431"
      ]
     },
     "execution_count": 14,
     "metadata": {},
     "output_type": "execute_result"
    }
   ],
   "source": [
    "# Method 1:\n",
    "Sorted = names.sort(['births'], ascending=False)\n",
    "Sorted.head(10)"
   ]
  },
  {
   "cell_type": "code",
   "execution_count": null,
   "metadata": {
    "collapsed": false
   },
   "outputs": [],
   "source": [
    "# Create graph\n",
    "names['births'].plot(kind='bar')\n",
    "\n",
    "print(\"The most popular name\")\n",
    "df.sort(columns='Births', ascending=False)"
   ]
  },
  {
   "cell_type": "code",
   "execution_count": null,
   "metadata": {
    "collapsed": true
   },
   "outputs": [],
   "source": []
  }
 ],
 "metadata": {
  "kernelspec": {
   "display_name": "Python 3",
   "language": "python",
   "name": "python3"
  },
  "language_info": {
   "codemirror_mode": {
    "name": "ipython",
    "version": 3
   },
   "file_extension": ".py",
   "mimetype": "text/x-python",
   "name": "python",
   "nbconvert_exporter": "python",
   "pygments_lexer": "ipython3",
   "version": "3.4.3"
  }
 },
 "nbformat": 4,
 "nbformat_minor": 0
}
