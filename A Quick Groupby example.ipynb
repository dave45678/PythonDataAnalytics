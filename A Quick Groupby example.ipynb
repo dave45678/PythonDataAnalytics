{
 "cells": [
  {
   "cell_type": "markdown",
   "metadata": {},
   "source": [
    "###Calculating Average scores using group by"
   ]
  },
  {
   "cell_type": "code",
   "execution_count": 2,
   "metadata": {
    "collapsed": false
   },
   "outputs": [
    {
     "name": "stdout",
     "output_type": "stream",
     "text": [
      "  County  Score State\n",
      "0      a     89    MD\n",
      "1      b     76    MD\n",
      "2      c     78    MD\n",
      "3     dc     67    DC\n",
      "4     dc     87    DC\n",
      "5     dc     69    DC\n",
      "6      d     85    VA\n"
     ]
    }
   ],
   "source": [
    "import pandas as pd\n",
    "import numpy as np\n",
    "\n",
    "data = {'State':['MD','MD','MD','DC','DC','DC','VA'],'Score':[89,76,78,67,87,69,85],'County':['a','b','c','dc','dc','dc','d']}\n",
    "frame=pd.DataFrame(data)\n",
    "print(frame)\n"
   ]
  },
  {
   "cell_type": "code",
   "execution_count": 3,
   "metadata": {
    "collapsed": false
   },
   "outputs": [
    {
     "name": "stdout",
     "output_type": "stream",
     "text": [
      "           Score\n",
      "State           \n",
      "DC     74.333333\n",
      "MD     81.000000\n",
      "VA     85.000000\n"
     ]
    }
   ],
   "source": [
    "sortedframe = frame.sort(['State','County'], ascending=True).groupby(['State']).mean()\n",
    "print(sortedframe)"
   ]
  },
  {
   "cell_type": "code",
   "execution_count": null,
   "metadata": {
    "collapsed": true
   },
   "outputs": [],
   "source": []
  }
 ],
 "metadata": {
  "kernelspec": {
   "display_name": "Python 3",
   "language": "python",
   "name": "python3"
  },
  "language_info": {
   "codemirror_mode": {
    "name": "ipython",
    "version": 3
   },
   "file_extension": ".py",
   "mimetype": "text/x-python",
   "name": "python",
   "nbconvert_exporter": "python",
   "pygments_lexer": "ipython3",
   "version": "3.4.3"
  }
 },
 "nbformat": 4,
 "nbformat_minor": 0
}
