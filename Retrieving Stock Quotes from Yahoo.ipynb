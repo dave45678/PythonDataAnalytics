{
 "cells": [
  {
   "cell_type": "code",
   "execution_count": 1,
   "metadata": {
    "collapsed": false
   },
   "outputs": [
    {
     "name": "stderr",
     "output_type": "stream",
     "text": [
      "C:\\Anaconda3\\lib\\site-packages\\pandas\\io\\data.py:33: FutureWarning: \n",
      "The pandas.io.data module is moved to a separate package (pandas-datareader) and will be removed from pandas in a future version.\n",
      "After installing the pandas-datareader package (https://github.com/pydata/pandas-datareader), you can change the import ``from pandas.io import data, wb`` to ``from pandas_datareader import data, wb``.\n",
      "  FutureWarning)\n"
     ]
    }
   ],
   "source": [
    "# see McKinney p. 139\n",
    "import pandas.io.data as web\n",
    "from pandas import Series, DataFrame\n",
    "import pandas as pd\n",
    "\n",
    "all_data = {}\n",
    "for ticker in ['AAPL','IBM','MSFT','GOOG']:\n",
    "    all_data[ticker] = web.get_data_yahoo(ticker,'1/1/2000','10/12/2015')\n",
    "    \n",
    "price = DataFrame({tic: data['Adj Close']\n",
    "                   for tic, data in all_data.items()})\n",
    "volume = DataFrame({tic: data['Volume']\n",
    "                   for tic, data in all_data.items()})"
   ]
  },
  {
   "cell_type": "code",
   "execution_count": 7,
   "metadata": {
    "collapsed": false
   },
   "outputs": [
    {
     "name": "stdout",
     "output_type": "stream",
     "text": [
      "<class 'pandas.core.frame.DataFrame'>\n",
      "DatetimeIndex: 3969 entries, 2000-01-03 to 2015-10-12\n",
      "Data columns (total 4 columns):\n",
      "AAPL    3969 non-null float64\n",
      "GOOG    390 non-null float64\n",
      "IBM     3969 non-null float64\n",
      "MSFT    3969 non-null float64\n",
      "dtypes: float64(4)\n",
      "memory usage: 155.0 KB\n"
     ]
    }
   ],
   "source": [
    "# print info about the price data frame\n",
    "price.info()"
   ]
  },
  {
   "cell_type": "code",
   "execution_count": 4,
   "metadata": {
    "collapsed": false
   },
   "outputs": [
    {
     "data": {
      "text/html": [
       "<div>\n",
       "<table border=\"1\" class=\"dataframe\">\n",
       "  <thead>\n",
       "    <tr style=\"text-align: right;\">\n",
       "      <th></th>\n",
       "      <th>AAPL</th>\n",
       "      <th>GOOG</th>\n",
       "      <th>IBM</th>\n",
       "      <th>MSFT</th>\n",
       "    </tr>\n",
       "    <tr>\n",
       "      <th>Date</th>\n",
       "      <th></th>\n",
       "      <th></th>\n",
       "      <th></th>\n",
       "      <th></th>\n",
       "    </tr>\n",
       "  </thead>\n",
       "  <tbody>\n",
       "    <tr>\n",
       "      <th>2000-01-03</th>\n",
       "      <td>3.722380</td>\n",
       "      <td>NaN</td>\n",
       "      <td>91.825702</td>\n",
       "      <td>40.933045</td>\n",
       "    </tr>\n",
       "    <tr>\n",
       "      <th>2000-01-04</th>\n",
       "      <td>3.408544</td>\n",
       "      <td>NaN</td>\n",
       "      <td>88.708774</td>\n",
       "      <td>39.550320</td>\n",
       "    </tr>\n",
       "    <tr>\n",
       "      <th>2000-01-05</th>\n",
       "      <td>3.458425</td>\n",
       "      <td>NaN</td>\n",
       "      <td>91.825702</td>\n",
       "      <td>39.967333</td>\n",
       "    </tr>\n",
       "    <tr>\n",
       "      <th>2000-01-06</th>\n",
       "      <td>3.159138</td>\n",
       "      <td>NaN</td>\n",
       "      <td>90.242501</td>\n",
       "      <td>38.628504</td>\n",
       "    </tr>\n",
       "    <tr>\n",
       "      <th>2000-01-07</th>\n",
       "      <td>3.308782</td>\n",
       "      <td>NaN</td>\n",
       "      <td>89.846700</td>\n",
       "      <td>39.133308</td>\n",
       "    </tr>\n",
       "  </tbody>\n",
       "</table>\n",
       "</div>"
      ],
      "text/plain": [
       "                AAPL  GOOG        IBM       MSFT\n",
       "Date                                            \n",
       "2000-01-03  3.722380   NaN  91.825702  40.933045\n",
       "2000-01-04  3.408544   NaN  88.708774  39.550320\n",
       "2000-01-05  3.458425   NaN  91.825702  39.967333\n",
       "2000-01-06  3.159138   NaN  90.242501  38.628504\n",
       "2000-01-07  3.308782   NaN  89.846700  39.133308"
      ]
     },
     "execution_count": 4,
     "metadata": {},
     "output_type": "execute_result"
    }
   ],
   "source": [
    "# view the first five records\n",
    "price.head()"
   ]
  },
  {
   "cell_type": "code",
   "execution_count": 8,
   "metadata": {
    "collapsed": false
   },
   "outputs": [
    {
     "name": "stdout",
     "output_type": "stream",
     "text": [
      "<class 'pandas.core.frame.DataFrame'>\n",
      "DatetimeIndex: 3969 entries, 2000-01-03 to 2015-10-12\n",
      "Data columns (total 4 columns):\n",
      "AAPL    3969 non-null int64\n",
      "GOOG    390 non-null float64\n",
      "IBM     3969 non-null int64\n",
      "MSFT    3969 non-null int64\n",
      "dtypes: float64(1), int64(3)\n",
      "memory usage: 155.0 KB\n"
     ]
    }
   ],
   "source": [
    "# print info about the volume data frame\n",
    "volume.info()"
   ]
  },
  {
   "cell_type": "code",
   "execution_count": 6,
   "metadata": {
    "collapsed": false
   },
   "outputs": [
    {
     "data": {
      "text/html": [
       "<div>\n",
       "<table border=\"1\" class=\"dataframe\">\n",
       "  <thead>\n",
       "    <tr style=\"text-align: right;\">\n",
       "      <th></th>\n",
       "      <th>AAPL</th>\n",
       "      <th>GOOG</th>\n",
       "      <th>IBM</th>\n",
       "      <th>MSFT</th>\n",
       "    </tr>\n",
       "    <tr>\n",
       "      <th>Date</th>\n",
       "      <th></th>\n",
       "      <th></th>\n",
       "      <th></th>\n",
       "      <th></th>\n",
       "    </tr>\n",
       "  </thead>\n",
       "  <tbody>\n",
       "    <tr>\n",
       "      <th>2000-01-03</th>\n",
       "      <td>133949200</td>\n",
       "      <td>NaN</td>\n",
       "      <td>10347700</td>\n",
       "      <td>53228400</td>\n",
       "    </tr>\n",
       "    <tr>\n",
       "      <th>2000-01-04</th>\n",
       "      <td>128094400</td>\n",
       "      <td>NaN</td>\n",
       "      <td>8227800</td>\n",
       "      <td>54119000</td>\n",
       "    </tr>\n",
       "    <tr>\n",
       "      <th>2000-01-05</th>\n",
       "      <td>194580400</td>\n",
       "      <td>NaN</td>\n",
       "      <td>12733200</td>\n",
       "      <td>64059600</td>\n",
       "    </tr>\n",
       "    <tr>\n",
       "      <th>2000-01-06</th>\n",
       "      <td>191993200</td>\n",
       "      <td>NaN</td>\n",
       "      <td>7971900</td>\n",
       "      <td>54976600</td>\n",
       "    </tr>\n",
       "    <tr>\n",
       "      <th>2000-01-07</th>\n",
       "      <td>115183600</td>\n",
       "      <td>NaN</td>\n",
       "      <td>11856700</td>\n",
       "      <td>62013600</td>\n",
       "    </tr>\n",
       "  </tbody>\n",
       "</table>\n",
       "</div>"
      ],
      "text/plain": [
       "                 AAPL  GOOG       IBM      MSFT\n",
       "Date                                           \n",
       "2000-01-03  133949200   NaN  10347700  53228400\n",
       "2000-01-04  128094400   NaN   8227800  54119000\n",
       "2000-01-05  194580400   NaN  12733200  64059600\n",
       "2000-01-06  191993200   NaN   7971900  54976600\n",
       "2000-01-07  115183600   NaN  11856700  62013600"
      ]
     },
     "execution_count": 6,
     "metadata": {},
     "output_type": "execute_result"
    }
   ],
   "source": [
    "# view the first five records\n",
    "volume.head()"
   ]
  },
  {
   "cell_type": "code",
   "execution_count": 2,
   "metadata": {
    "collapsed": false
   },
   "outputs": [
    {
     "data": {
      "text/html": [
       "<div>\n",
       "<table border=\"1\" class=\"dataframe\">\n",
       "  <thead>\n",
       "    <tr style=\"text-align: right;\">\n",
       "      <th></th>\n",
       "      <th>AAPL</th>\n",
       "      <th>GOOG</th>\n",
       "      <th>IBM</th>\n",
       "      <th>MSFT</th>\n",
       "    </tr>\n",
       "    <tr>\n",
       "      <th>Date</th>\n",
       "      <th></th>\n",
       "      <th></th>\n",
       "      <th></th>\n",
       "      <th></th>\n",
       "    </tr>\n",
       "  </thead>\n",
       "  <tbody>\n",
       "    <tr>\n",
       "      <th>2015-10-06</th>\n",
       "      <td>0.004784</td>\n",
       "      <td>0.006189</td>\n",
       "      <td>-0.001744</td>\n",
       "      <td>0.002573</td>\n",
       "    </tr>\n",
       "    <tr>\n",
       "      <th>2015-10-07</th>\n",
       "      <td>-0.004761</td>\n",
       "      <td>-0.004772</td>\n",
       "      <td>0.008805</td>\n",
       "      <td>0.001069</td>\n",
       "    </tr>\n",
       "    <tr>\n",
       "      <th>2015-10-08</th>\n",
       "      <td>-0.011554</td>\n",
       "      <td>-0.004982</td>\n",
       "      <td>0.014591</td>\n",
       "      <td>0.013889</td>\n",
       "    </tr>\n",
       "    <tr>\n",
       "      <th>2015-10-09</th>\n",
       "      <td>0.023927</td>\n",
       "      <td>0.006962</td>\n",
       "      <td>0.000722</td>\n",
       "      <td>-0.007165</td>\n",
       "    </tr>\n",
       "    <tr>\n",
       "      <th>2015-10-12</th>\n",
       "      <td>-0.004638</td>\n",
       "      <td>0.004754</td>\n",
       "      <td>-0.008203</td>\n",
       "      <td>-0.002335</td>\n",
       "    </tr>\n",
       "  </tbody>\n",
       "</table>\n",
       "</div>"
      ],
      "text/plain": [
       "                AAPL      GOOG       IBM      MSFT\n",
       "Date                                              \n",
       "2015-10-06  0.004784  0.006189 -0.001744  0.002573\n",
       "2015-10-07 -0.004761 -0.004772  0.008805  0.001069\n",
       "2015-10-08 -0.011554 -0.004982  0.014591  0.013889\n",
       "2015-10-09  0.023927  0.006962  0.000722 -0.007165\n",
       "2015-10-12 -0.004638  0.004754 -0.008203 -0.002335"
      ]
     },
     "execution_count": 2,
     "metadata": {},
     "output_type": "execute_result"
    }
   ],
   "source": [
    "# create a new data frame that contains the percent change from price\n",
    "returns = price.pct_change()\n",
    "returns.tail()\n"
   ]
  }
 ],
 "metadata": {
  "kernelspec": {
   "display_name": "Python 3",
   "language": "python",
   "name": "python3"
  },
  "language_info": {
   "codemirror_mode": {
    "name": "ipython",
    "version": 3
   },
   "file_extension": ".py",
   "mimetype": "text/x-python",
   "name": "python",
   "nbconvert_exporter": "python",
   "pygments_lexer": "ipython3",
   "version": "3.4.3"
  }
 },
 "nbformat": 4,
 "nbformat_minor": 0
}
