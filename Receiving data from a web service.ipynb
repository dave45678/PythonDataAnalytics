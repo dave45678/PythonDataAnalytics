{
 "cells": [
  {
   "cell_type": "markdown",
   "metadata": {},
   "source": [
    "### Web Services\n",
    "\n",
    "A Lot of data is available as web services. These let you access the data by connecting to a url.\n",
    "You can put the results of the url into a dataframe and work with the data from there.\n",
    "\n",
    "A web service is any piece of software that makes itself available over the internet and uses a standardized XML messaging system. XML is used to encode all communications to a web service. For example, a client invokes a web service by sending an XML message, then waits for a corresponding XML response. Many web services are using JSON instead of XML."
   ]
  },
  {
   "cell_type": "code",
   "execution_count": null,
   "metadata": {
    "collapsed": false
   },
   "outputs": [],
   "source": [
    "import pandas as pd\n",
    "# retrieve a list of customers from a web-service\n",
    "# What is a web service?\n",
    "# What is JSON? http://www.w3schools.com/json/default.asp\n",
    "import urllib.request\n",
    "\n",
    "#from urllib2 import Request, urlopen\n",
    "import json\n",
    "from pandas.io.json import json_normalize\n",
    "\n",
    "#url = 'http://www.w3schools.com/website/customers_mysql.php'\n",
    "request = urllib.request.Request(url)\n",
    "response = urllib.request.urlopen(request)\n",
    "\n",
    "\n",
    "df = pd.read_json(url)\n",
    "\n",
    "df.info\n",
    "\n"
   ]
  },
  {
   "cell_type": "code",
   "execution_count": null,
   "metadata": {
    "collapsed": true
   },
   "outputs": [],
   "source": [
    "# see your data\n",
    "df\n"
   ]
  },
  {
   "cell_type": "code",
   "execution_count": null,
   "metadata": {
    "collapsed": true
   },
   "outputs": [],
   "source": [
    "# Try to connect to this api which returns jason formatted data. You can put the url in your browser to see the raw data\n",
    "url = 'http://data.colorado.gov/resource/4ykn-tg5h.json' #http://themarklee.com/2014/04/03/pulling-json-data-open-data-api/\n"
   ]
  },
  {
   "cell_type": "code",
   "execution_count": null,
   "metadata": {
    "collapsed": true
   },
   "outputs": [],
   "source": [
    "# Now enter a ZIP code and search the database for it\n",
    "# http://www.zippopotam.us/\n",
    "zip = '21532'\n",
    "url = 'http://api.zippopotam.us/us/' + zip "
   ]
  }
 ],
 "metadata": {
  "kernelspec": {
   "display_name": "Python 3",
   "language": "python",
   "name": "python3"
  },
  "language_info": {
   "codemirror_mode": {
    "name": "ipython",
    "version": 3
   },
   "file_extension": ".py",
   "mimetype": "text/x-python",
   "name": "python",
   "nbconvert_exporter": "python",
   "pygments_lexer": "ipython3",
   "version": "3.4.3"
  }
 },
 "nbformat": 4,
 "nbformat_minor": 0
}
