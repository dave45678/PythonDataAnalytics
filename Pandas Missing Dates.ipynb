{
 "cells": [
  {
   "cell_type": "markdown",
   "metadata": {},
   "source": [
    "Fill in missing dates using Series.reindex\n",
    "Some help:\n",
    "http://greenteapress.com/thinkstats2/html/thinkstats2013.html"
   ]
  },
  {
   "cell_type": "code",
   "execution_count": 1,
   "metadata": {
    "collapsed": false
   },
   "outputs": [
    {
     "data": {
      "text/plain": [
       "2013-09-01   NaN\n",
       "2013-09-02     2\n",
       "2013-09-03     6\n",
       "2013-09-04     6\n",
       "2013-09-05    10\n",
       "2013-09-06     5\n",
       "2013-09-07     3\n",
       "2013-09-08     3\n",
       "2013-09-09     1\n",
       "2013-09-10   NaN\n",
       "2013-09-11   NaN\n",
       "2013-09-12   NaN\n",
       "2013-09-13   NaN\n",
       "2013-09-14   NaN\n",
       "2013-09-15   NaN\n",
       "2013-09-16   NaN\n",
       "2013-09-17   NaN\n",
       "2013-09-18   NaN\n",
       "2013-09-19   NaN\n",
       "2013-09-20   NaN\n",
       "2013-09-21   NaN\n",
       "2013-09-22   NaN\n",
       "2013-09-23   NaN\n",
       "2013-09-24   NaN\n",
       "2013-09-25   NaN\n",
       "2013-09-26   NaN\n",
       "2013-09-27   NaN\n",
       "2013-09-28   NaN\n",
       "2013-09-29   NaN\n",
       "2013-09-30   NaN\n",
       "Freq: D, dtype: float64"
      ]
     },
     "execution_count": 1,
     "metadata": {},
     "output_type": "execute_result"
    }
   ],
   "source": [
    "import pandas as pd\n",
    "\n",
    "idx = pd.date_range('09-01-2013', '09-30-2013')\n",
    "\n",
    "s = pd.Series({'09-02-2013': 2,\n",
    "               '09-03-2013': 10,\n",
    "               '09-06-2013': 5,\n",
    "               '09-07-2013': 1})\n",
    "s.index = pd.DatetimeIndex(s.index)\n",
    "\n",
    "s = s.reindex(idx)\n",
    "\n",
    "#s = s.fillna(pd.rolling_mean.rolling_mean(s,3))\n",
    "#s = pd.rolling_mean(s, window=1)#.shift(-2)\n",
    "s = pd.rolling_mean(s.resample(\"1D\", fill_method=\"ffill\"), window=3, min_periods=1)\n",
    "#print(s.mean())\n",
    "s\n",
    "\n",
    "# add column for 10 day and 30 day moving average\n",
    "# create scatterplot\n",
    "# create line chart"
   ]
  },
  {
   "cell_type": "code",
   "execution_count": null,
   "metadata": {
    "collapsed": true
   },
   "outputs": [],
   "source": []
  }
 ],
 "metadata": {
  "kernelspec": {
   "display_name": "Python 3",
   "language": "python",
   "name": "python3"
  },
  "language_info": {
   "codemirror_mode": {
    "name": "ipython",
    "version": 3
   },
   "file_extension": ".py",
   "mimetype": "text/x-python",
   "name": "python",
   "nbconvert_exporter": "python",
   "pygments_lexer": "ipython3",
   "version": "3.4.3"
  }
 },
 "nbformat": 4,
 "nbformat_minor": 0
}
