{
 "cells": [
  {
   "cell_type": "markdown",
   "metadata": {},
   "source": [
    "use IPython for writing, testing, and debugging,\n",
    "show iPython: manipulate, process, clean and analyze structured datatypes: matrices, tabular/spreadsheet data, and relational databases\n",
    "show top features of Pandas: http://manishamde.github.io/blog/2013/03/07/pandas-and-python-top-10/\n",
    "show plotting and 2D visualization in MatPlotLib # http://matplotlib.org/examples/axes_grid/scatter_hist.html\n",
    "show NumPy\n",
    "use SciPy packages (numpy array) for scientific computing  http://www.scipy-lectures.org/index.html\n",
    "connecting to Excel, sqlite, MySQL\n",
    "Saving and loading text files (p. 104)\n",
    "connecting to web api's and web data\n",
    "sources of data\n",
    "\n",
    "what is JSON?\n",
    "\n",
    "Anaconda test drive: http://conda.pydata.org/docs/test-drive.html\n",
    "\n",
    "\n",
    "First Steps with SQLAlchemy: http://bytefish.de/blog/first_steps_with_sqlalchemy/\n",
    "http://www.sqlalchemy.org/\n",
    "\n",
    "Scatter chart: http://matplotlib.org/examples/pylab_examples/scatter_demo2.html\n",
    "\n",
    "\n",
    "Virtualenv: https://virtualenv.pypa.io/en/latest/userguide.html#usage\n",
    "If using Anaconda then manage environments their way: http://conda.pydata.org/docs/using/envs.html"
   ]
  },
  {
   "cell_type": "code",
   "execution_count": 3,
   "metadata": {
    "collapsed": false
   },
   "outputs": [
    {
     "data": {
      "text/plain": [
       "[('Bob', 968), ('Jessica', 155), ('Mary', 77), ('John', 578), ('Mel', 973)]"
      ]
     },
     "execution_count": 3,
     "metadata": {},
     "output_type": "execute_result"
    }
   ],
   "source": [
    "from pandas import DataFrame, read_csv\n",
    "import matplotlib.pyplot as plt\n",
    "import pandas as pd\n",
    "import sys\n",
    "%matplotlib inline\n",
    "names = ['Bob','Jessica','Mary','John','Mel']\n",
    "births = [968,155,77,578,973]\n",
    "\n",
    "BabyDataSet = list(zip(names,births))\n",
    "BabyDataSet"
   ]
  },
  {
   "cell_type": "code",
   "execution_count": 4,
   "metadata": {
    "collapsed": false
   },
   "outputs": [
    {
     "data": {
      "text/html": [
       "<div>\n",
       "<table border=\"1\" class=\"dataframe\">\n",
       "  <thead>\n",
       "    <tr style=\"text-align: right;\">\n",
       "      <th></th>\n",
       "      <th>Names</th>\n",
       "      <th>Births</th>\n",
       "    </tr>\n",
       "  </thead>\n",
       "  <tbody>\n",
       "    <tr>\n",
       "      <th>0</th>\n",
       "      <td>Bob</td>\n",
       "      <td>968</td>\n",
       "    </tr>\n",
       "    <tr>\n",
       "      <th>1</th>\n",
       "      <td>Jessica</td>\n",
       "      <td>155</td>\n",
       "    </tr>\n",
       "    <tr>\n",
       "      <th>2</th>\n",
       "      <td>Mary</td>\n",
       "      <td>77</td>\n",
       "    </tr>\n",
       "    <tr>\n",
       "      <th>3</th>\n",
       "      <td>John</td>\n",
       "      <td>578</td>\n",
       "    </tr>\n",
       "    <tr>\n",
       "      <th>4</th>\n",
       "      <td>Mel</td>\n",
       "      <td>973</td>\n",
       "    </tr>\n",
       "  </tbody>\n",
       "</table>\n",
       "</div>"
      ],
      "text/plain": [
       "     Names  Births\n",
       "0      Bob     968\n",
       "1  Jessica     155\n",
       "2     Mary      77\n",
       "3     John     578\n",
       "4      Mel     973"
      ]
     },
     "execution_count": 4,
     "metadata": {},
     "output_type": "execute_result"
    }
   ],
   "source": [
    "df = pd.DataFrame(data = BabyDataSet, columns=['Names', 'Births'])\n",
    "df"
   ]
  },
  {
   "cell_type": "code",
   "execution_count": 5,
   "metadata": {
    "collapsed": false
   },
   "outputs": [
    {
     "data": {
      "text/plain": [
       "Names     object\n",
       "Births     int64\n",
       "dtype: object"
      ]
     },
     "execution_count": 5,
     "metadata": {},
     "output_type": "execute_result"
    }
   ],
   "source": [
    "df.dtypes"
   ]
  },
  {
   "cell_type": "code",
   "execution_count": 6,
   "metadata": {
    "collapsed": false
   },
   "outputs": [
    {
     "data": {
      "text/plain": [
       "dtype('int64')"
      ]
     },
     "execution_count": 6,
     "metadata": {},
     "output_type": "execute_result"
    }
   ],
   "source": [
    "df.Births.dtype"
   ]
  },
  {
   "cell_type": "code",
   "execution_count": 7,
   "metadata": {
    "collapsed": false
   },
   "outputs": [
    {
     "data": {
      "text/html": [
       "<div>\n",
       "<table border=\"1\" class=\"dataframe\">\n",
       "  <thead>\n",
       "    <tr style=\"text-align: right;\">\n",
       "      <th></th>\n",
       "      <th>Births</th>\n",
       "    </tr>\n",
       "  </thead>\n",
       "  <tbody>\n",
       "    <tr>\n",
       "      <th>count</th>\n",
       "      <td>5.000000</td>\n",
       "    </tr>\n",
       "    <tr>\n",
       "      <th>mean</th>\n",
       "      <td>550.200000</td>\n",
       "    </tr>\n",
       "    <tr>\n",
       "      <th>std</th>\n",
       "      <td>428.424672</td>\n",
       "    </tr>\n",
       "    <tr>\n",
       "      <th>min</th>\n",
       "      <td>77.000000</td>\n",
       "    </tr>\n",
       "    <tr>\n",
       "      <th>25%</th>\n",
       "      <td>155.000000</td>\n",
       "    </tr>\n",
       "    <tr>\n",
       "      <th>50%</th>\n",
       "      <td>578.000000</td>\n",
       "    </tr>\n",
       "    <tr>\n",
       "      <th>75%</th>\n",
       "      <td>968.000000</td>\n",
       "    </tr>\n",
       "    <tr>\n",
       "      <th>max</th>\n",
       "      <td>973.000000</td>\n",
       "    </tr>\n",
       "  </tbody>\n",
       "</table>\n",
       "</div>"
      ],
      "text/plain": [
       "           Births\n",
       "count    5.000000\n",
       "mean   550.200000\n",
       "std    428.424672\n",
       "min     77.000000\n",
       "25%    155.000000\n",
       "50%    578.000000\n",
       "75%    968.000000\n",
       "max    973.000000"
      ]
     },
     "execution_count": 7,
     "metadata": {},
     "output_type": "execute_result"
    }
   ],
   "source": [
    "#Summary Statistics\n",
    "df.describe()"
   ]
  },
  {
   "cell_type": "code",
   "execution_count": 8,
   "metadata": {
    "collapsed": false
   },
   "outputs": [
    {
     "data": {
      "text/html": [
       "<div>\n",
       "<table border=\"1\" class=\"dataframe\">\n",
       "  <thead>\n",
       "    <tr style=\"text-align: right;\">\n",
       "      <th></th>\n",
       "      <th>Names</th>\n",
       "      <th>Births</th>\n",
       "    </tr>\n",
       "  </thead>\n",
       "  <tbody>\n",
       "    <tr>\n",
       "      <th>4</th>\n",
       "      <td>Mel</td>\n",
       "      <td>973</td>\n",
       "    </tr>\n",
       "  </tbody>\n",
       "</table>\n",
       "</div>"
      ],
      "text/plain": [
       "  Names  Births\n",
       "4   Mel     973"
      ]
     },
     "execution_count": 8,
     "metadata": {},
     "output_type": "execute_result"
    }
   ],
   "source": [
    "Sorted = df.sort(['Births'], ascending = False)\n",
    "Sorted.head(1)"
   ]
  },
  {
   "cell_type": "code",
   "execution_count": 9,
   "metadata": {
    "collapsed": false
   },
   "outputs": [
    {
     "data": {
      "text/plain": [
       "973"
      ]
     },
     "execution_count": 9,
     "metadata": {},
     "output_type": "execute_result"
    }
   ],
   "source": [
    "df['Births'].max()"
   ]
  },
  {
   "cell_type": "code",
   "execution_count": 12,
   "metadata": {
    "collapsed": false
   },
   "outputs": [
    {
     "name": "stdout",
     "output_type": "stream",
     "text": [
      "The most popular name\n"
     ]
    },
    {
     "data": {
      "text/html": [
       "<div>\n",
       "<table border=\"1\" class=\"dataframe\">\n",
       "  <thead>\n",
       "    <tr style=\"text-align: right;\">\n",
       "      <th></th>\n",
       "      <th>Names</th>\n",
       "      <th>Births</th>\n",
       "    </tr>\n",
       "  </thead>\n",
       "  <tbody>\n",
       "    <tr>\n",
       "      <th>4</th>\n",
       "      <td>Mel</td>\n",
       "      <td>973</td>\n",
       "    </tr>\n",
       "  </tbody>\n",
       "</table>\n",
       "</div>"
      ],
      "text/plain": [
       "  Names  Births\n",
       "4   Mel     973"
      ]
     },
     "execution_count": 12,
     "metadata": {},
     "output_type": "execute_result"
    },
    {
     "data": {
      "image/png": "[encoded data removed]",
      "text/plain": [
       "<matplotlib.figure.Figure at 0x8256908>"
      ]
     },
     "metadata": {},
     "output_type": "display_data"
    }
   ],
   "source": [
    "df['Births'].plot()\n",
    "MaxValue = df['Births'].max()\n",
    "MaxName = df['Names'][df['Births'] == df['Births'].max()].values\n",
    "Text = str(MaxValue) + \" - \" + MaxName\n",
    "plt.annotate(Text, xy=(1, MaxValue), xytext=(8,0),xycoords=('axes fraction', 'data'),textcoords='offset points')\n",
    "print(\"The most popular name\")\n",
    "df[df['Births']==df['Births'].max()]\n"
   ]
  },
  {
   "cell_type": "code",
   "execution_count": 11,
   "metadata": {
    "collapsed": false
   },
   "outputs": [
    {
     "name": "stdout",
     "output_type": "stream",
     "text": [
      "There are 1 Jessica\n"
     ]
    }
   ],
   "source": [
    "# http://stackoverflow.com/questions/30944577/check-if-string-is-in-a-pandas-dataframe/30946773#30946773\n",
    "name = 'Jessica'\n",
    "name_count=df['Names'].str.contains(name).sum()\n",
    "if name_count>0:\n",
    "    print (\"There are {m} {n}\".format(m=name_count,n=name))"
   ]
  },
  {
   "cell_type": "code",
   "execution_count": 13,
   "metadata": {
    "collapsed": false
   },
   "outputs": [
    {
     "data": {
      "text/html": [
       "<div>\n",
       "<table border=\"1\" class=\"dataframe\">\n",
       "  <thead>\n",
       "    <tr style=\"text-align: right;\">\n",
       "      <th></th>\n",
       "      <th>Names</th>\n",
       "      <th>Births</th>\n",
       "    </tr>\n",
       "  </thead>\n",
       "  <tbody>\n",
       "    <tr>\n",
       "      <th>0</th>\n",
       "      <td>Bob</td>\n",
       "      <td>968</td>\n",
       "    </tr>\n",
       "    <tr>\n",
       "      <th>1</th>\n",
       "      <td>Jessica</td>\n",
       "      <td>155</td>\n",
       "    </tr>\n",
       "    <tr>\n",
       "      <th>2</th>\n",
       "      <td>Mary</td>\n",
       "      <td>77</td>\n",
       "    </tr>\n",
       "    <tr>\n",
       "      <th>3</th>\n",
       "      <td>John</td>\n",
       "      <td>578</td>\n",
       "    </tr>\n",
       "    <tr>\n",
       "      <th>4</th>\n",
       "      <td>Mel</td>\n",
       "      <td>973</td>\n",
       "    </tr>\n",
       "  </tbody>\n",
       "</table>\n",
       "</div>"
      ],
      "text/plain": [
       "     Names  Births\n",
       "0      Bob     968\n",
       "1  Jessica     155\n",
       "2     Mary      77\n",
       "3     John     578\n",
       "4      Mel     973"
      ]
     },
     "execution_count": 13,
     "metadata": {},
     "output_type": "execute_result"
    }
   ],
   "source": [
    "df"
   ]
  },
  {
   "cell_type": "code",
   "execution_count": 14,
   "metadata": {
    "collapsed": false
   },
   "outputs": [
    {
     "data": {
      "text/html": [
       "<div>\n",
       "<table border=\"1\" class=\"dataframe\">\n",
       "  <thead>\n",
       "    <tr style=\"text-align: right;\">\n",
       "      <th></th>\n",
       "      <th>Names</th>\n",
       "      <th>Births</th>\n",
       "    </tr>\n",
       "  </thead>\n",
       "  <tbody>\n",
       "    <tr>\n",
       "      <th>0</th>\n",
       "      <td>Bob</td>\n",
       "      <td>968</td>\n",
       "    </tr>\n",
       "    <tr>\n",
       "      <th>2</th>\n",
       "      <td>Mary</td>\n",
       "      <td>77</td>\n",
       "    </tr>\n",
       "    <tr>\n",
       "      <th>3</th>\n",
       "      <td>John</td>\n",
       "      <td>578</td>\n",
       "    </tr>\n",
       "    <tr>\n",
       "      <th>4</th>\n",
       "      <td>Mel</td>\n",
       "      <td>973</td>\n",
       "    </tr>\n",
       "  </tbody>\n",
       "</table>\n",
       "</div>"
      ],
      "text/plain": [
       "  Names  Births\n",
       "0   Bob     968\n",
       "2  Mary      77\n",
       "3  John     578\n",
       "4   Mel     973"
      ]
     },
     "execution_count": 14,
     "metadata": {},
     "output_type": "execute_result"
    }
   ],
   "source": [
    "#removing a row containing a value\n",
    "'''\n",
    "While the error message suggests that all() or any() can be used, \n",
    "they are useful only when you want to reduce the result into a single Boolean value. \n",
    "That is however not what you are trying to do now, which is to test the \n",
    "membership of every values in the Series against the external list, \n",
    "and keep the results intact (i.e., a Boolean Series which will then be used to slice the original DataFrame).\n",
    "\n",
    "You can read more about this:\n",
    "http://pandas.pydata.org/pandas-docs/stable/gotchas.html#using-if-truth-statements-with-pandas\n",
    "'''\n",
    "# http://stackoverflow.com/questions/27965295/dropping-rows-from-dataframe-based-on-a-not-in-condtion?rq=1\n",
    "a = ['Jessica']\n",
    "df = df[~df['Names'].isin(a)]\n",
    "df"
   ]
  },
  {
   "cell_type": "code",
   "execution_count": 15,
   "metadata": {
    "collapsed": false
   },
   "outputs": [
    {
     "data": {
      "text/plain": [
       "Names     4\n",
       "Births    4\n",
       "dtype: int64"
      ]
     },
     "execution_count": 15,
     "metadata": {},
     "output_type": "execute_result"
    }
   ],
   "source": [
    "#counting matching rows\n",
    "# http://stackoverflow.com/questions/29166314/how-to-count-conditions-across-a-row?rq=1\n",
    "df[df>10].count()\n"
   ]
  },
  {
   "cell_type": "code",
   "execution_count": null,
   "metadata": {
    "collapsed": true
   },
   "outputs": [],
   "source": [
    "# more on counting \n",
    "# http://stackoverflow.com/questions/29566603/python-pandas-conditional-count-across-columns?rq=1"
   ]
  },
  {
   "cell_type": "code",
   "execution_count": 16,
   "metadata": {
    "collapsed": false
   },
   "outputs": [
    {
     "data": {
      "text/html": [
       "<div>\n",
       "<table border=\"1\" class=\"dataframe\">\n",
       "  <thead>\n",
       "    <tr style=\"text-align: right;\">\n",
       "      <th></th>\n",
       "      <th>Names</th>\n",
       "      <th>Births</th>\n",
       "    </tr>\n",
       "  </thead>\n",
       "  <tbody>\n",
       "    <tr>\n",
       "      <th>0</th>\n",
       "      <td>Bob</td>\n",
       "      <td>968</td>\n",
       "    </tr>\n",
       "    <tr>\n",
       "      <th>3</th>\n",
       "      <td>John</td>\n",
       "      <td>578</td>\n",
       "    </tr>\n",
       "  </tbody>\n",
       "</table>\n",
       "</div>"
      ],
      "text/plain": [
       "  Names  Births\n",
       "0   Bob     968\n",
       "3  John     578"
      ]
     },
     "execution_count": 16,
     "metadata": {},
     "output_type": "execute_result"
    }
   ],
   "source": [
    "# http://stackoverflow.com/questions/31617845/how-to-select-rows-in-a-dataframe-between-two-values-in-python-pandas?rq=1\n",
    "df = df[(df['Births'] >= 99) & (df['Births'] <= 970)]\n",
    "df"
   ]
  },
  {
   "cell_type": "code",
   "execution_count": 17,
   "metadata": {
    "collapsed": false
   },
   "outputs": [
    {
     "data": {
      "text/html": [
       "<div>\n",
       "<table border=\"1\" class=\"dataframe\">\n",
       "  <thead>\n",
       "    <tr style=\"text-align: right;\">\n",
       "      <th></th>\n",
       "      <th>Cost</th>\n",
       "      <th>Description</th>\n",
       "      <th>Quantity</th>\n",
       "      <th>Tax</th>\n",
       "      <th>Total</th>\n",
       "    </tr>\n",
       "  </thead>\n",
       "  <tbody>\n",
       "    <tr>\n",
       "      <th>0</th>\n",
       "      <td>2.0</td>\n",
       "      <td>dd</td>\n",
       "      <td>1</td>\n",
       "      <td>1.25</td>\n",
       "      <td>4.25</td>\n",
       "    </tr>\n",
       "    <tr>\n",
       "      <th>1</th>\n",
       "      <td>3.5</td>\n",
       "      <td>ee</td>\n",
       "      <td>2</td>\n",
       "      <td>5.50</td>\n",
       "      <td>11.00</td>\n",
       "    </tr>\n",
       "    <tr>\n",
       "      <th>2</th>\n",
       "      <td>4.0</td>\n",
       "      <td>ff</td>\n",
       "      <td>3</td>\n",
       "      <td>1.00</td>\n",
       "      <td>8.00</td>\n",
       "    </tr>\n",
       "  </tbody>\n",
       "</table>\n",
       "</div>"
      ],
      "text/plain": [
       "   Cost Description  Quantity   Tax  Total\n",
       "0   2.0          dd         1  1.25   4.25\n",
       "1   3.5          ee         2  5.50  11.00\n",
       "2   4.0          ff         3  1.00   8.00"
      ]
     },
     "execution_count": 17,
     "metadata": {},
     "output_type": "execute_result"
    }
   ],
   "source": [
    "#Math on dataframe columns\n",
    "# http://stackoverflow.com/questions/14059094/i-want-to-multiply-two-columns-in-a-pandas-dataframe-and-add-the-result-into-a-n\n",
    "df = pd.DataFrame({'Quantity': [1,2,3], 'Cost': [2.00,3.50,4.00], 'Description':['dd','ee','ff'], 'Tax':[1.25,5.50,1.00]})\n",
    "df['Total'] = df.sum(axis=1)\n",
    "df"
   ]
  },
  {
   "cell_type": "code",
   "execution_count": 18,
   "metadata": {
    "collapsed": false
   },
   "outputs": [
    {
     "ename": "NameError",
     "evalue": "name 'file_name' is not defined",
     "output_type": "error",
     "traceback": [
      "\u001b[1;31m---------------------------------------------------------------------------\u001b[0m",
      "\u001b[1;31mNameError\u001b[0m                                 Traceback (most recent call last)",
      "\u001b[1;32m<ipython-input-18-71b19e6058b6>\u001b[0m in \u001b[0;36m<module>\u001b[1;34m()\u001b[0m\n\u001b[0;32m      1\u001b[0m \u001b[1;31m#reading Excel files (p. 172 python for d.a.)\u001b[0m\u001b[1;33m\u001b[0m\u001b[1;33m\u001b[0m\u001b[0m\n\u001b[0;32m      2\u001b[0m \u001b[1;31m# http://stackoverflow.com/questions/16888888/how-to-read-a-xlsx-file-using-the-pandas-library-in-ipython\u001b[0m\u001b[1;33m\u001b[0m\u001b[1;33m\u001b[0m\u001b[0m\n\u001b[1;32m----> 3\u001b[1;33m \u001b[0mxl_file\u001b[0m \u001b[1;33m=\u001b[0m \u001b[0mpd\u001b[0m\u001b[1;33m.\u001b[0m\u001b[0mExcelFile\u001b[0m\u001b[1;33m(\u001b[0m\u001b[0mfile_name\u001b[0m\u001b[1;33m)\u001b[0m\u001b[1;33m\u001b[0m\u001b[0m\n\u001b[0m\u001b[0;32m      4\u001b[0m \u001b[1;33m\u001b[0m\u001b[0m\n\u001b[0;32m      5\u001b[0m dfs = {sheet_name: xl_file.parse(sheet_name) \n",
      "\u001b[1;31mNameError\u001b[0m: name 'file_name' is not defined"
     ]
    }
   ],
   "source": [
    "#reading Excel files (p. 172 python for d.a.)\n",
    "# http://stackoverflow.com/questions/16888888/how-to-read-a-xlsx-file-using-the-pandas-library-in-ipython\n",
    "xl_file = pd.ExcelFile(file_name)\n",
    "\n",
    "dfs = {sheet_name: xl_file.parse(sheet_name) \n",
    "          for sheet_name in xl_file.sheet_names}"
   ]
  },
  {
   "cell_type": "code",
   "execution_count": null,
   "metadata": {
    "collapsed": true
   },
   "outputs": [],
   "source": [
    "# example from https://michigancomputes.wordpress.com/2013/05/10/data-analysis-the-ipython-notebook-way-in-a-single-day/\n",
    "#open the Excel workbook\n",
    "workbook = openpyxl.load_workbook(filename = f, use_iterators=True)\n",
    "\n",
    "#select the worksheet in the workbook\n",
    "worksheet = workbook.get_sheet_by_name(name = 'Sheet1')\n",
    "\n",
    "#initialize an empty list to \n",
    "table = []\n",
    "#iterate through the rows in the worksheet\n",
    "for row in worksheet.iter_rows():\n",
    "#iterate through the columns\n",
    "for column in row:\n",
    "#append the value to the list\n",
    "table.append(column.internal_value)"
   ]
  },
  {
   "cell_type": "code",
   "execution_count": null,
   "metadata": {
    "collapsed": true
   },
   "outputs": [],
   "source": [
    "# http://www.gregreda.com/2013/10/26/working-with-pandas-dataframes/"
   ]
  },
  {
   "cell_type": "code",
   "execution_count": null,
   "metadata": {
    "collapsed": true
   },
   "outputs": [],
   "source": [
    "# http://stackoverflow.com/questions/27965295/dropping-rows-from-dataframe-based-on-a-not-in-condtion?rq=1\n",
    "# http://stackoverflow.com/questions/29166314/how-to-count-conditions-across-a-row?rq=1\n",
    "# http://stackoverflow.com/questions/31617845/how-to-select-rows-in-a-dataframe-between-two-values-in-python-pandas?rq=1\n",
    "# http://stackoverflow.com/questions/14124710/two-columns-of-a-pandas-dataframe-concat-in-python?rq=1\n",
    "# http://stackoverflow.com/questions/14059094/i-want-to-multiply-two-columns-in-a-pandas-dataframe-and-add-the-result-into-a-n\n",
    "# http://pandas.pydata.org/pandas-docs/stable/gotchas.html#using-if-truth-statements-with-pandas\n",
    "\n"
   ]
  },
  {
   "cell_type": "code",
   "execution_count": null,
   "metadata": {
    "collapsed": true
   },
   "outputs": [],
   "source": [
    "# Notebook Galleries\n",
    "# https://www.eecis.udel.edu/~boncelet/ipython.html\n",
    "# https://www.eecis.udel.edu/~boncelet/IntroScientificComputingPython.html\n",
    "# https://github.com/ipython/ipython/wiki/A-gallery-of-interesting-IPython-Notebooks\n",
    "# https://github.com/ipython/ipython/wiki/A-gallery-of-interesting-IPython-Notebooks#whimsical-notebooks\n"
   ]
  },
  {
   "cell_type": "code",
   "execution_count": null,
   "metadata": {
    "collapsed": true
   },
   "outputs": [],
   "source": [
    "# Final Project\n",
    "# # http://nbviewer.ipython.org/github/Jay-Oh-eN/happy-healthy-hungry/blob/master/h3.ipynb\n"
   ]
  },
  {
   "cell_type": "code",
   "execution_count": null,
   "metadata": {
    "collapsed": true
   },
   "outputs": [],
   "source": [
    "# http://manishamde.github.io/blog/2013/03/07/pandas-and-python-top-10/#stats\n"
   ]
  },
  {
   "cell_type": "code",
   "execution_count": null,
   "metadata": {
    "collapsed": false
   },
   "outputs": [],
   "source": [
    "help(np.random)"
   ]
  },
  {
   "cell_type": "code",
   "execution_count": 24,
   "metadata": {
    "collapsed": false
   },
   "outputs": [
    {
     "data": {
      "text/plain": [
       "<matplotlib.collections.PathCollection at 0x918e370>"
      ]
     },
     "execution_count": 24,
     "metadata": {},
     "output_type": "execute_result"
    },
    {
     "data": {
      "image/png": "[encoded data removed]",
      "text/plain": [
       "<matplotlib.figure.Figure at 0x90f7810>"
      ]
     },
     "metadata": {},
     "output_type": "display_data"
    }
   ],
   "source": [
    "#scatter plot\n",
    "import numpy as np\n",
    "import pandas as pd\n",
    "import matplotlib.pyplot as plt\n",
    "\n",
    "dataframe = pd.DataFrame({'Col': np.random.normal(size=200)})\n",
    "plt.scatter(dataframe.index, dataframe['Col'])"
   ]
  },
  {
   "cell_type": "code",
   "execution_count": 25,
   "metadata": {
    "collapsed": true
   },
   "outputs": [],
   "source": [
    "#timeseries plot... .needs df with a time series\n",
    "# http://markthegraph.blogspot.com/2015/05/plotting-time-series-dataframes-in.html\n",
    "import datetime\n",
    "import pandas as pd\n",
    "import numpy as np\n",
    "import matplotlib.pyplot as plt\n",
    "from matplotlib.dates import DateFormatter, YearLocator, MonthLocator\n",
    "plt.style.use('ggplot')\n",
    "\n",
    "def plot(df, filename, heading=None):\n",
    "\n",
    "    fig, ax = plt.subplots(figsize=(8, 4))\n",
    "\n",
    "    min_date = None\n",
    "    max_date = None\n",
    "    for col_name in df.columns.values:\n",
    "\n",
    "        # plot the column\n",
    "        col = df[col_name]\n",
    "        col = col[col.notnull()] # drop NAs\n",
    "        dates = [zzz.to_timestamp().date() for zzz in col.index]\n",
    "        ax.plot_date(x=dates, y=col, fmt='-', label=col_name,\n",
    "            tz=None, xdate=True, ydate=False, linewidth=1.5)\n",
    "\n",
    "        # establish the date range for the data\n",
    "        if min_date:\n",
    "            min_date = min(min_date, min(dates))\n",
    "        else:\n",
    "            min_date = min(dates)\n",
    "        if max_date:\n",
    "            max_date = max(max_date, max(dates))\n",
    "        else:\n",
    "            max_date = max(dates)\n",
    "\n",
    "    # give a bit of space at each end of the plot - aesthetics\n",
    "    span = max_date - min_date\n",
    "    extra = int(span.days * 0.03) * datetime.timedelta(days=1)\n",
    "    ax.set_xlim([min_date - extra, max_date + extra])\n",
    "\n",
    "    # format the x tick marks\n",
    "    ax.xaxis.set_major_formatter(DateFormatter('%Y'))\n",
    "    ax.xaxis.set_minor_formatter(DateFormatter('\\n%b'))\n",
    "    ax.xaxis.set_major_locator(YearLocator())\n",
    "    ax.xaxis.set_minor_locator(MonthLocator(bymonthday=1, interval=2))\n",
    "\n",
    "    # grid, legend and yLabel\n",
    "    ax.grid(True)\n",
    "    ax.legend(loc='best', prop={'size':'x-small'})\n",
    "    ax.set_ylabel('Percent')\n",
    "\n",
    "    # heading\n",
    "    if heading:\n",
    "        fig.suptitle(heading, fontsize=12)\n",
    "    fig.tight_layout(pad=1.5)\n",
    "\n",
    "    # footnote\n",
    "    fig.text(0.99, 0.01, 'marktheballot.blogspot.com.au', ha='right', \n",
    "        va='bottom', fontsize=8, color='#999999')\n",
    "\n",
    "    # save to file\n",
    "    fig.savefig(filename, dpi=125)"
   ]
  },
  {
   "cell_type": "code",
   "execution_count": 26,
   "metadata": {
    "collapsed": false
   },
   "outputs": [
    {
     "ename": "AttributeError",
     "evalue": "'numpy.int64' object has no attribute 'to_timestamp'",
     "output_type": "error",
     "traceback": [
      "\u001b[1;31m---------------------------------------------------------------------------\u001b[0m",
      "\u001b[1;31mAttributeError\u001b[0m                            Traceback (most recent call last)",
      "\u001b[1;32m<ipython-input-26-70f1007d0e8f>\u001b[0m in \u001b[0;36m<module>\u001b[1;34m()\u001b[0m\n\u001b[1;32m----> 1\u001b[1;33m \u001b[0mplot\u001b[0m\u001b[1;33m(\u001b[0m\u001b[0mdf\u001b[0m\u001b[1;33m,\u001b[0m\u001b[1;34m'c:\\test.txt'\u001b[0m\u001b[1;33m)\u001b[0m\u001b[1;33m\u001b[0m\u001b[0m\n\u001b[0m",
      "\u001b[1;32m<ipython-input-25-5045b401e2c8>\u001b[0m in \u001b[0;36mplot\u001b[1;34m(df, filename, heading)\u001b[0m\n\u001b[0;32m     17\u001b[0m         \u001b[0mcol\u001b[0m \u001b[1;33m=\u001b[0m \u001b[0mdf\u001b[0m\u001b[1;33m[\u001b[0m\u001b[0mcol_name\u001b[0m\u001b[1;33m]\u001b[0m\u001b[1;33m\u001b[0m\u001b[0m\n\u001b[0;32m     18\u001b[0m         \u001b[0mcol\u001b[0m \u001b[1;33m=\u001b[0m \u001b[0mcol\u001b[0m\u001b[1;33m[\u001b[0m\u001b[0mcol\u001b[0m\u001b[1;33m.\u001b[0m\u001b[0mnotnull\u001b[0m\u001b[1;33m(\u001b[0m\u001b[1;33m)\u001b[0m\u001b[1;33m]\u001b[0m \u001b[1;31m# drop NAs\u001b[0m\u001b[1;33m\u001b[0m\u001b[0m\n\u001b[1;32m---> 19\u001b[1;33m         \u001b[0mdates\u001b[0m \u001b[1;33m=\u001b[0m \u001b[1;33m[\u001b[0m\u001b[0mzzz\u001b[0m\u001b[1;33m.\u001b[0m\u001b[0mto_timestamp\u001b[0m\u001b[1;33m(\u001b[0m\u001b[1;33m)\u001b[0m\u001b[1;33m.\u001b[0m\u001b[0mdate\u001b[0m\u001b[1;33m(\u001b[0m\u001b[1;33m)\u001b[0m \u001b[1;32mfor\u001b[0m \u001b[0mzzz\u001b[0m \u001b[1;32min\u001b[0m \u001b[0mcol\u001b[0m\u001b[1;33m.\u001b[0m\u001b[0mindex\u001b[0m\u001b[1;33m]\u001b[0m\u001b[1;33m\u001b[0m\u001b[0m\n\u001b[0m\u001b[0;32m     20\u001b[0m         ax.plot_date(x=dates, y=col, fmt='-', label=col_name,\n\u001b[0;32m     21\u001b[0m             tz=None, xdate=True, ydate=False, linewidth=1.5)\n",
      "\u001b[1;32m<ipython-input-25-5045b401e2c8>\u001b[0m in \u001b[0;36m<listcomp>\u001b[1;34m(.0)\u001b[0m\n\u001b[0;32m     17\u001b[0m         \u001b[0mcol\u001b[0m \u001b[1;33m=\u001b[0m \u001b[0mdf\u001b[0m\u001b[1;33m[\u001b[0m\u001b[0mcol_name\u001b[0m\u001b[1;33m]\u001b[0m\u001b[1;33m\u001b[0m\u001b[0m\n\u001b[0;32m     18\u001b[0m         \u001b[0mcol\u001b[0m \u001b[1;33m=\u001b[0m \u001b[0mcol\u001b[0m\u001b[1;33m[\u001b[0m\u001b[0mcol\u001b[0m\u001b[1;33m.\u001b[0m\u001b[0mnotnull\u001b[0m\u001b[1;33m(\u001b[0m\u001b[1;33m)\u001b[0m\u001b[1;33m]\u001b[0m \u001b[1;31m# drop NAs\u001b[0m\u001b[1;33m\u001b[0m\u001b[0m\n\u001b[1;32m---> 19\u001b[1;33m         \u001b[0mdates\u001b[0m \u001b[1;33m=\u001b[0m \u001b[1;33m[\u001b[0m\u001b[0mzzz\u001b[0m\u001b[1;33m.\u001b[0m\u001b[0mto_timestamp\u001b[0m\u001b[1;33m(\u001b[0m\u001b[1;33m)\u001b[0m\u001b[1;33m.\u001b[0m\u001b[0mdate\u001b[0m\u001b[1;33m(\u001b[0m\u001b[1;33m)\u001b[0m \u001b[1;32mfor\u001b[0m \u001b[0mzzz\u001b[0m \u001b[1;32min\u001b[0m \u001b[0mcol\u001b[0m\u001b[1;33m.\u001b[0m\u001b[0mindex\u001b[0m\u001b[1;33m]\u001b[0m\u001b[1;33m\u001b[0m\u001b[0m\n\u001b[0m\u001b[0;32m     20\u001b[0m         ax.plot_date(x=dates, y=col, fmt='-', label=col_name,\n\u001b[0;32m     21\u001b[0m             tz=None, xdate=True, ydate=False, linewidth=1.5)\n",
      "\u001b[1;31mAttributeError\u001b[0m: 'numpy.int64' object has no attribute 'to_timestamp'"
     ]
    },
    {
     "data": {
      "image/png": "[encoded data removed]",
      "text/plain": [
       "<matplotlib.figure.Figure at 0x9193db0>"
      ]
     },
     "metadata": {},
     "output_type": "display_data"
    }
   ],
   "source": [
    "plot(df,'c:\\test.txt')"
   ]
  },
  {
   "cell_type": "code",
   "execution_count": 28,
   "metadata": {
    "collapsed": false
   },
   "outputs": [
    {
     "name": "stdout",
     "output_type": "stream",
     "text": [
      "           a         b         id\n",
      "1   0.033363  0.417198  60.400000\n",
      "2   0.171638  0.495794  45.272727\n",
      "3   0.265727  0.716758  46.600000\n",
      "4   0.401239  0.489243  38.625000\n",
      "5   0.507286  0.481878  46.444444\n",
      "6   0.601027  0.435642  43.714286\n",
      "7   0.707246  0.588129  61.133333\n",
      "8   0.807911  0.455398  45.000000\n",
      "9   0.938664  0.455485  59.142857\n",
      "10  0.988057  0.327353  29.000000\n",
      "           a         b    id\n",
      "1   0.032711  0.318927  64.0\n",
      "2   0.168458  0.495303  39.0\n",
      "3   0.263632  0.735488  60.0\n",
      "4   0.404831  0.548690  37.5\n",
      "5   0.511420  0.488555  49.0\n",
      "6   0.615569  0.371914  34.0\n",
      "7   0.717316  0.652552  57.0\n",
      "8   0.808336  0.529243  39.0\n",
      "9   0.945145  0.479817  59.0\n",
      "10  0.988057  0.327353  29.0\n",
      "           a         b         id\n",
      "1        NaN  0.759341  60.400000\n",
      "2        NaN  0.754259  45.272727\n",
      "3        NaN  0.787800  46.600000\n",
      "4        NaN  0.728892  44.142857\n",
      "5   0.516913  0.806901  46.444444\n",
      "6   0.601027  0.721583  43.714286\n",
      "7   0.707246  0.757952  61.133333\n",
      "8   0.807911  0.769861  45.000000\n",
      "9   0.938664  0.650231  59.142857\n",
      "10  0.988057       NaN  29.000000\n"
     ]
    }
   ],
   "source": [
    "# http://stackoverflow.com/questions/16947336/binning-a-dataframe-in-pandas-in-python\n",
    "'''\n",
    "given a df where id is an id for each point consisting of an a and b value, \n",
    "how can I bin a and b into a specified set of bins \n",
    "(so that I can then take the median/average value of a and b in each bin)?  \n",
    "df might have NaN values for a or b (or both) for any given row in df.\n",
    "'''\n",
    "import numpy as np\n",
    "import pandas\n",
    "\n",
    "df = pandas.DataFrame({\"a\": np.random.random(100),\n",
    "                       \"b\": np.random.random(100),\n",
    "                       \"id\": np.arange(100)})\n",
    "\n",
    "# Bin the data frame by \"a\" with 10 bins...\n",
    "bins = np.linspace(df.a.min(), df.a.max(), 10)\n",
    "groups = df.groupby(np.digitize(df.a, bins))\n",
    "\n",
    "# Get the mean of each bin:\n",
    "print (groups.mean()) # Also could do \"groups.aggregate(np.mean)\"\n",
    "\n",
    "# Similarly, the median:\n",
    "print (groups.median())\n",
    "\n",
    "# Apply some arbitrary function to aggregate binned data\n",
    "print (groups.aggregate(lambda x: np.mean(x[x > 0.5])))"
   ]
  },
  {
   "cell_type": "code",
   "execution_count": 34,
   "metadata": {
    "collapsed": false
   },
   "outputs": [
    {
     "name": "stdout",
     "output_type": "stream",
     "text": [
      "7995\n"
     ]
    }
   ],
   "source": [
    "import random\n",
    "babynames = open(\"babynames.csv\",\"w\")\n",
    "print(random.randint(1000,9000))\n",
    "for i in range(1,1000):\n",
    "    babynames.write(\"Name #{0},{1}\\r\".format(i,random.randint(1000,10000)))\n",
    "babynames.close()\n",
    "\n",
    "\n",
    "    "
   ]
  },
  {
   "cell_type": "code",
   "execution_count": null,
   "metadata": {
    "collapsed": true
   },
   "outputs": [],
   "source": [
    "# http://www.gregreda.com/2013/10/26/using-pandas-on-the-movielens-dataset/"
   ]
  }
 ],
 "metadata": {
  "kernelspec": {
   "display_name": "Python 3",
   "language": "python",
   "name": "python3"
  },
  "language_info": {
   "codemirror_mode": {
    "name": "ipython",
    "version": 3
   },
   "file_extension": ".py",
   "mimetype": "text/x-python",
   "name": "python",
   "nbconvert_exporter": "python",
   "pygments_lexer": "ipython3",
   "version": "3.4.3"
  }
 },
 "nbformat": 4,
 "nbformat_minor": 0
}
